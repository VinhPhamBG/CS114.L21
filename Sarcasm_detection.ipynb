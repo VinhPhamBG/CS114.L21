{
  "nbformat": 4,
  "nbformat_minor": 0,
  "metadata": {
    "colab": {
      "name": "Sarcasm_detection.ipynb",
      "provenance": [],
      "collapsed_sections": [
        "Xjbbo9dTSmBn",
        "fjtUui5NZH4J",
        "VcMwfPew4D-e"
      ],
      "toc_visible": true,
      "mount_file_id": "1riaajbT9J_HubP8K44X9Q5bWblV8vwaW",
      "authorship_tag": "ABX9TyMm8aUyFIv1pp6RVqNFv/EF",
      "include_colab_link": true
    },
    "kernelspec": {
      "name": "python3",
      "display_name": "Python 3"
    },
    "language_info": {
      "name": "python"
    }
  },
  "cells": [
    {
      "cell_type": "markdown",
      "metadata": {
        "id": "view-in-github",
        "colab_type": "text"
      },
      "source": [
        "<a href=\"https://colab.research.google.com/github/NMT201/CS114.L21/blob/main/Sarcasm_detection.ipynb\" target=\"_parent\"><img src=\"https://colab.research.google.com/assets/colab-badge.svg\" alt=\"Open In Colab\"/></a>"
      ]
    },
    {
      "cell_type": "markdown",
      "metadata": {
        "id": "N-cw8GAsY3kc"
      },
      "source": [
        "# **NHẬN DIỆN TIN CHÂM BIẾM QUA TIÊU ĐỀ CÁC BÀI BÁO :** "
      ]
    },
    {
      "cell_type": "markdown",
      "metadata": {
        "id": "Xjbbo9dTSmBn"
      },
      "source": [
        "### **Các thành viên trong nhóm** :\n",
        "* Phạm Quang Vinh - 19522526\n",
        "* Nguyễn Minh Trí - 19522389\n",
        "* Trương Xuân Linh - 19521759\n"
      ]
    },
    {
      "cell_type": "markdown",
      "metadata": {
        "id": "km4uqZmHbWuR"
      },
      "source": [
        "## **I. Import các thư viện cần thiết :**"
      ]
    },
    {
      "cell_type": "code",
      "metadata": {
        "id": "i5z5ZM2Achwq"
      },
      "source": [
        "import pandas as pd\n",
        "import requests\n",
        "from bs4 import BeautifulSoup\n",
        "import json\n",
        "import matplotlib.pyplot as plt\n",
        "from sklearn.model_selection import train_test_split\n",
        "import nltk\n",
        "import string\n",
        "from nltk.corpus import stopwords, brown\n",
        "import numpy as np\n",
        "from sklearn.feature_extraction.text import TfidfVectorizer, CountVectorizer\n",
        "from sklearn.svm import LinearSVC\n",
        "from sklearn.linear_model import LogisticRegression, RidgeClassifier, SGDClassifier\n",
        "from sklearn.neighbors import KNeighborsClassifier\n",
        "from sklearn.model_selection import cross_val_score, StratifiedKFold\n",
        "import plotly.graph_objs as go"
      ],
      "execution_count": 6,
      "outputs": []
    },
    {
      "cell_type": "markdown",
      "metadata": {
        "id": "H7cLGhG2LaKG"
      },
      "source": [
        "## **II. Crawl dữ liệu :**"
      ]
    },
    {
      "cell_type": "markdown",
      "metadata": {
        "id": "fjtUui5NZH4J"
      },
      "source": [
        "###**1. Crawl dữ liệu từ các trang châm biếm vào file 1.json:** \n",
        "\n"
      ]
    },
    {
      "cell_type": "markdown",
      "metadata": {
        "id": "Tam4XWQFbHvU"
      },
      "source": [
        "* **The Betoota Advocate** - Canada : http://betootaadvocate.com/ (14961 headlines từ 1/1/2018 đến nay)"
      ]
    },
    {
      "cell_type": "code",
      "metadata": {
        "id": "Y3TMEdp0HeM-"
      },
      "source": [
        "for year in range(21, 22):\n",
        "  for month in range(4,7):\n",
        "    for day in range(1,32):\n",
        "      paper = \"https://www.betootaadvocate.com/20\"+ str(year) + \"/\" + str(month) + \"/\" + str(day) + \"/\"\n",
        "      response = requests.get(paper)\n",
        "      soup = BeautifulSoup(response.content, \"html.parser\")\n",
        "      titles = soup.findAll('div', class_ = 'td-module-thumb')\n",
        "      links = [link.find('a').attrs[\"href\"] for link in titles]\n",
        "\n",
        "      with open(\"/content/drive/MyDrive/ML/1_test.json\", 'a') as f:\n",
        "          for link in links:\n",
        "              news = requests.get(link)\n",
        "              soup = BeautifulSoup(news.content, \"html.parser\")\n",
        "              title = soup.find(\"h1\", class_ = \"entry-title\").text\n",
        "              data = {\n",
        "                      \"article_link\" : link,\n",
        "                      \"headline\" : title,\n",
        "                      \"is_sarcastic\" : 1\n",
        "                  }\n",
        "              json.dump(data, f)\n",
        "              f.write(\"\\n\")\n"
      ],
      "execution_count": null,
      "outputs": []
    },
    {
      "cell_type": "markdown",
      "metadata": {
        "id": "IKFNmMDAqKyl"
      },
      "source": [
        "* **Clickhole** - U.S : https://clickhole.com/ (808 headlines từ 1/1/2018 đến nay)"
      ]
    },
    {
      "cell_type": "code",
      "metadata": {
        "id": "GwZuJicqq0Ld"
      },
      "source": [
        "for year in range(18, 22):\n",
        "  for month in range(1, 13):\n",
        "    for page in range(1, 4):\n",
        "      paper = \"https://clickhole.com/\"+ str(year) +\"/\"+ str(month) +\"/page/\"+str(page)+\"/\"\n",
        "      response = requests.get(paper)\n",
        "      soup = BeautifulSoup(response.content, \"html.parser\")\n",
        "      titles = soup.findAll('h2', class_ = 'post-title')\n",
        "      links = [link.find('a').attrs[\"href\"] for link in titles]\n",
        "\n",
        "      with open(\"/content/drive/MyDrive/ML/1.json\", 'a') as f:\n",
        "          for link in links:\n",
        "              news = requests.get(link)\n",
        "              soup = BeautifulSoup(news.content, \"html.parser\")\n",
        "              title = soup.find(\"h1\", class_ = \"post-title\").text\n",
        "              data = {\n",
        "                      \"article_link\" : link,\n",
        "                      \"headline\" : title,\n",
        "                      \"is_sarcastic\" : 1\n",
        "                  }\n",
        "              json.dump(data, f)\n",
        "              f.write(\"\\n\")"
      ],
      "execution_count": null,
      "outputs": []
    },
    {
      "cell_type": "markdown",
      "metadata": {
        "id": "y0yhl0kFri5u"
      },
      "source": [
        "* **The Daily Bonnet** - Canada : https://dailybonnet.com/ (1486 headlines từ 1/1/2018 đến nay)"
      ]
    },
    {
      "cell_type": "code",
      "metadata": {
        "id": "3ZP2PVTrsIP3"
      },
      "source": [
        "for page in range(1, 85):\n",
        "  for month in range(1,13):\n",
        "    for day in range(1,32):\n",
        "      paper = \"https://dailybonnet.com/20\" + str(year) +\"/\"+ str(month) + \"/\" + str(day) +\"/\"\n",
        "      response = requests.get(paper)\n",
        "      soup = BeautifulSoup(response.content, \"html.parser\")\n",
        "      titles = soup.findAll('h2', class_ = 'post-title')\n",
        "      links = [link.find('a').attrs[\"href\"] for link in titles]\n",
        "\n",
        "      with open(\"/content/drive/MyDrive/ML/1.json\", 'a') as f:\n",
        "          for link in links:\n",
        "              news = requests.get(link)\n",
        "              soup = BeautifulSoup(news.content, \"html.parser\")\n",
        "              title = soup.find(\"h1\", class_ = \"entry-title\").text\n",
        "              data = {\n",
        "                      \"article_link\" : link,\n",
        "                      \"headline\" : title,\n",
        "                      \"is_sarcastic\" : 1\n",
        "                  }\n",
        "              json.dump(data, f)\n",
        "              f.write(\"\\n\")"
      ],
      "execution_count": null,
      "outputs": []
    },
    {
      "cell_type": "markdown",
      "metadata": {
        "id": "gEQtHaXF3mMH"
      },
      "source": [
        "* **The Hard Times** - U.S : https://thehardtimes.net/ (6751 headlines từ 1/1/2018 đến nay)"
      ]
    },
    {
      "cell_type": "code",
      "metadata": {
        "id": "iXFcYUnE3rmM"
      },
      "source": [
        "for year in range(18, 22):\n",
        "  for month in range(1,13):\n",
        "    for day in range(1,32):\n",
        "    paper = \"https://thehardtimes.net/20\"+ str(year) +\"/\"+ str(month) + \"/\" + str(day) +\"/\"\n",
        "    response = requests.get(paper)\n",
        "    soup = BeautifulSoup(response.content, \"html.parser\")\n",
        "    titles = soup.findAll('h3', class_ = 'entry-title mh-posts-list-title')\n",
        "    links = [link.find('a').attrs[\"href\"] for link in titles]\n",
        "\n",
        "    with open(\"/content/drive/MyDrive/ML/1.json\", 'a') as f:\n",
        "        for link in links:\n",
        "            news = requests.get(link)\n",
        "            soup = BeautifulSoup(news.content, \"html.parser\")\n",
        "            title = soup.find(\"h1\", class_ = \"entry-title\").text\n",
        "            data = {\n",
        "                    \"article_link\" : link,\n",
        "                    \"headline\" : title,\n",
        "                    \"is_sarcastic\" : 1\n",
        "                }\n",
        "            json.dump(data, f)\n",
        "            f.write(\"\\n\")"
      ],
      "execution_count": null,
      "outputs": []
    },
    {
      "cell_type": "markdown",
      "metadata": {
        "id": "VcMwfPew4D-e"
      },
      "source": [
        "### **2. Crawl dữ liệu từ các trang chính thống vào file 0.json :**"
      ]
    },
    {
      "cell_type": "markdown",
      "metadata": {
        "id": "I9XL96Tn4Pf3"
      },
      "source": [
        "* **Best in AU** : https://bestinau.com.au/"
      ]
    },
    {
      "cell_type": "code",
      "metadata": {
        "id": "QQT4SQ1-4PLS"
      },
      "source": [
        "for year in range(18, 22):\n",
        "  for month in range(1, 13):\n",
        "    for day in range(1, 32):\n",
        "      paper = \"https://bestinau.com.au/20\"+ str(20) + \"/\" + str(month) + \"/\" + str(day) + \"/\"\n",
        "      response = requests.get(paper)\n",
        "      soup = BeautifulSoup(response.content, \"html.parser\")\n",
        "      titles = soup.findAll('h3', class_ = 'entry-title td-module-title')\n",
        "      links = [link.find('a').attrs[\"href\"] for link in titles]\n",
        "\n",
        "      with open(\"/content/drive/MyDrive/ML/0.json\", 'a') as f:\n",
        "          for link in links:\n",
        "              news = requests.get(link)\n",
        "              soup = BeautifulSoup(news.content, \"html.parser\")\n",
        "              title = soup.find(\"h1\", class_ = \"entry-title\").text  \n",
        "              data = {\n",
        "                      \"article_link\" : link,\n",
        "                      \"headline\" : title,\n",
        "                      \"is_sarcastic\" : 0\n",
        "                  }\n",
        "              json.dump(data, f)\n",
        "              f.write(\"\\n\")"
      ],
      "execution_count": null,
      "outputs": []
    },
    {
      "cell_type": "markdown",
      "metadata": {
        "id": "PK8MU6KbCayd"
      },
      "source": [
        "* **TIME** : https://time.com/ (4354 headlines từ 1/1/2018 đến nay)"
      ]
    },
    {
      "cell_type": "code",
      "metadata": {
        "id": "Qex_USr8CkAj"
      },
      "source": [
        "for page in range(1, 765):\n",
        "    try:\n",
        "      paper = \"https://time.com/section/world/?page=\" + str(page)\n",
        "      response = requests.get(paper)\n",
        "      soup = BeautifulSoup(response.content, \"html.parser\")\n",
        "      titles = soup.findAll('h3', class_ = 'headline heading-3 heading-content-small padding-4-top margin-8-bottom media-heading')\n",
        "      links = [link.find('a').attrs[\"href\"] for link in titles]\n",
        "\n",
        "      with open(\"/content/drive/MyDrive/ML/0.json\", 'a') as f:\n",
        "          for link in links:\n",
        "              news = requests.get(\"https://time.com/\" + link)\n",
        "              soup = BeautifulSoup(news.content, \"html.parser\")\n",
        "              title = soup.find(\"h1\", class_ = \"headline heading-content margin-8-top\").text\n",
        "              data = {\n",
        "                      \"article_link\" : \"https://time.com/\" + link,\n",
        "                      \"headline\" : title,\n",
        "                      \"is_sarcastic\" : 0\n",
        "                  }\n",
        "              json.dump(data, f)\n",
        "              f.write(\"\\n\")\n",
        "    except:\n",
        "      continue"
      ],
      "execution_count": null,
      "outputs": []
    },
    {
      "cell_type": "markdown",
      "metadata": {
        "id": "Eapr0rJDDdpO"
      },
      "source": [
        " * **City News Everywhere** : https://toronto.citynews.ca/ (20533 headlines từ 1/1/2018 đến nay)"
      ]
    },
    {
      "cell_type": "code",
      "metadata": {
        "id": "tEUfuBYJDcwx"
      },
      "source": [
        "for page in range(1, 1300):\n",
        "    print(page)\n",
        "    try:\n",
        "      paper = \"https://toronto.citynews.ca/category/national/page/\"+ str(page) + \"/\"\n",
        "      response = requests.get(paper)\n",
        "      soup = BeautifulSoup(response.content, \"html.parser\")\n",
        "      titles = soup.findAll('div', class_ = 'col-lg-13 col-md-13 col-sm-13')\n",
        "      links = [link.find('a').attrs[\"href\"] for link in titles]\n",
        "      \n",
        "      with open(\"/content/drive/MyDrive/ML/0.json\", 'a') as f:\n",
        "          for link in links:\n",
        "              news = requests.get(link)\n",
        "              soup = BeautifulSoup(news.content, \"html.parser\")\n",
        "              title = soup.find(\"h1\", class_ = \"headline\").text\n",
        "              data = {\n",
        "                      \"article_link\" : link,\n",
        "                      \"headline\" : title,\n",
        "                      \"is_sarcastic\" : 0\n",
        "                  }\n",
        "              json.dump(data, f)\n",
        "              f.write(\"\\n\")\n",
        "    except:\n",
        "      continue"
      ],
      "execution_count": null,
      "outputs": []
    },
    {
      "cell_type": "markdown",
      "metadata": {
        "id": "mGDNbAf0ERi7"
      },
      "source": [
        "### **3. Gộp 2 file vừa crawl được :**"
      ]
    },
    {
      "cell_type": "markdown",
      "metadata": {
        "id": "Glgfmuc4EhL9"
      },
      "source": [
        "* **File các headlines báo chính thống **"
      ]
    },
    {
      "cell_type": "code",
      "metadata": {
        "id": "Qn-JxA97whz_",
        "colab": {
          "base_uri": "https://localhost:8080/",
          "height": 419
        },
        "outputId": "b752adb0-53e2-4858-eae5-b293d1ffd756"
      },
      "source": [
        "data0 = pd.read_json('/content/drive/MyDrive/ML/Sarcasm_data/0.json', lines = True)\n",
        "data0"
      ],
      "execution_count": 7,
      "outputs": [
        {
          "output_type": "execute_result",
          "data": {
            "text/html": [
              "<div>\n",
              "<style scoped>\n",
              "    .dataframe tbody tr th:only-of-type {\n",
              "        vertical-align: middle;\n",
              "    }\n",
              "\n",
              "    .dataframe tbody tr th {\n",
              "        vertical-align: top;\n",
              "    }\n",
              "\n",
              "    .dataframe thead th {\n",
              "        text-align: right;\n",
              "    }\n",
              "</style>\n",
              "<table border=\"1\" class=\"dataframe\">\n",
              "  <thead>\n",
              "    <tr style=\"text-align: right;\">\n",
              "      <th></th>\n",
              "      <th>article_link</th>\n",
              "      <th>headline</th>\n",
              "      <th>is_sarcastic</th>\n",
              "    </tr>\n",
              "  </thead>\n",
              "  <tbody>\n",
              "    <tr>\n",
              "      <th>0</th>\n",
              "      <td>https://toronto.citynews.ca/2021/06/11/a-look-...</td>\n",
              "      <td>A look at COVID-19 vaccinations in Canada on F...</td>\n",
              "      <td>0</td>\n",
              "    </tr>\n",
              "    <tr>\n",
              "      <th>1</th>\n",
              "      <td>https://toronto.citynews.ca/2021/06/11/the-lat...</td>\n",
              "      <td>The latest numbers on COVID-19 in Canada for F...</td>\n",
              "      <td>0</td>\n",
              "    </tr>\n",
              "    <tr>\n",
              "      <th>2</th>\n",
              "      <td>https://toronto.citynews.ca/2021/06/11/b-c-pre...</td>\n",
              "      <td>B.C. premier says changes to U.S. cruise ship ...</td>\n",
              "      <td>0</td>\n",
              "    </tr>\n",
              "    <tr>\n",
              "      <th>3</th>\n",
              "      <td>https://toronto.citynews.ca/2021/06/11/peoples...</td>\n",
              "      <td>People's Party leader Maxime Bernier charged a...</td>\n",
              "      <td>0</td>\n",
              "    </tr>\n",
              "    <tr>\n",
              "      <th>4</th>\n",
              "      <td>https://toronto.citynews.ca/2021/06/11/peoples...</td>\n",
              "      <td>People's Party of Canada Leader Maxime Bernier...</td>\n",
              "      <td>0</td>\n",
              "    </tr>\n",
              "    <tr>\n",
              "      <th>...</th>\n",
              "      <td>...</td>\n",
              "      <td>...</td>\n",
              "      <td>...</td>\n",
              "    </tr>\n",
              "    <tr>\n",
              "      <th>58851</th>\n",
              "      <td>https://bestinau.com.au/dan-murphy-catalogue/</td>\n",
              "      <td>A look into the Dan Murphy Catalogue and how i...</td>\n",
              "      <td>0</td>\n",
              "    </tr>\n",
              "    <tr>\n",
              "      <th>58852</th>\n",
              "      <td>https://bestinau.com.au/neurologists-adelaide/</td>\n",
              "      <td>Best Neurologists in Adelaide</td>\n",
              "      <td>0</td>\n",
              "    </tr>\n",
              "    <tr>\n",
              "      <th>58853</th>\n",
              "      <td>https://bestinau.com.au/establish-website-high...</td>\n",
              "      <td>Establishing if your website is high in qualit...</td>\n",
              "      <td>0</td>\n",
              "    </tr>\n",
              "    <tr>\n",
              "      <th>58854</th>\n",
              "      <td>https://bestinau.com.au/everything-to-know-abo...</td>\n",
              "      <td>Everything to know about Taylor Swift’s new al...</td>\n",
              "      <td>0</td>\n",
              "    </tr>\n",
              "    <tr>\n",
              "      <th>58855</th>\n",
              "      <td>https://bestinau.com.au/best-spanish-language-...</td>\n",
              "      <td>Best Spanish language apps to download</td>\n",
              "      <td>0</td>\n",
              "    </tr>\n",
              "  </tbody>\n",
              "</table>\n",
              "<p>58856 rows × 3 columns</p>\n",
              "</div>"
            ],
            "text/plain": [
              "                                            article_link  ... is_sarcastic\n",
              "0      https://toronto.citynews.ca/2021/06/11/a-look-...  ...            0\n",
              "1      https://toronto.citynews.ca/2021/06/11/the-lat...  ...            0\n",
              "2      https://toronto.citynews.ca/2021/06/11/b-c-pre...  ...            0\n",
              "3      https://toronto.citynews.ca/2021/06/11/peoples...  ...            0\n",
              "4      https://toronto.citynews.ca/2021/06/11/peoples...  ...            0\n",
              "...                                                  ...  ...          ...\n",
              "58851      https://bestinau.com.au/dan-murphy-catalogue/  ...            0\n",
              "58852     https://bestinau.com.au/neurologists-adelaide/  ...            0\n",
              "58853  https://bestinau.com.au/establish-website-high...  ...            0\n",
              "58854  https://bestinau.com.au/everything-to-know-abo...  ...            0\n",
              "58855  https://bestinau.com.au/best-spanish-language-...  ...            0\n",
              "\n",
              "[58856 rows x 3 columns]"
            ]
          },
          "metadata": {
            "tags": []
          },
          "execution_count": 7
        }
      ]
    },
    {
      "cell_type": "code",
      "metadata": {
        "id": "lNRm8F-YOxLi"
      },
      "source": [
        "data0 = data0.drop_duplicates()"
      ],
      "execution_count": 8,
      "outputs": []
    },
    {
      "cell_type": "markdown",
      "metadata": {
        "id": "Bj7pz-_qEo3v"
      },
      "source": [
        "* **File các headlines báo châm biếm**"
      ]
    },
    {
      "cell_type": "code",
      "metadata": {
        "id": "Q5kp1VVU9Ciw",
        "colab": {
          "base_uri": "https://localhost:8080/",
          "height": 419
        },
        "outputId": "013101a5-40b6-450c-d04d-6c656cfea9bd"
      },
      "source": [
        "data1 = pd.read_json('/content/drive/MyDrive/ML/Sarcasm_data/1.json', lines= True)\n",
        "data1"
      ],
      "execution_count": 9,
      "outputs": [
        {
          "output_type": "execute_result",
          "data": {
            "text/html": [
              "<div>\n",
              "<style scoped>\n",
              "    .dataframe tbody tr th:only-of-type {\n",
              "        vertical-align: middle;\n",
              "    }\n",
              "\n",
              "    .dataframe tbody tr th {\n",
              "        vertical-align: top;\n",
              "    }\n",
              "\n",
              "    .dataframe thead th {\n",
              "        text-align: right;\n",
              "    }\n",
              "</style>\n",
              "<table border=\"1\" class=\"dataframe\">\n",
              "  <thead>\n",
              "    <tr style=\"text-align: right;\">\n",
              "      <th></th>\n",
              "      <th>article_link</th>\n",
              "      <th>headline</th>\n",
              "      <th>is_sarcastic</th>\n",
              "    </tr>\n",
              "  </thead>\n",
              "  <tbody>\n",
              "    <tr>\n",
              "      <th>0</th>\n",
              "      <td>https://clickhole.com/finally-the-indians-are-...</td>\n",
              "      <td>Finally: The Indians Are Replacing Their Racis...</td>\n",
              "      <td>1</td>\n",
              "    </tr>\n",
              "    <tr>\n",
              "      <th>1</th>\n",
              "      <td>https://clickhole.com/end-of-an-era-with-donal...</td>\n",
              "      <td>End Of An Era: With Donald Trump’s Plans To Se...</td>\n",
              "      <td>1</td>\n",
              "    </tr>\n",
              "    <tr>\n",
              "      <th>2</th>\n",
              "      <td>https://clickhole.com/culture-shock-everything...</td>\n",
              "      <td>Culture Shock: Everything You Need To Know Abo...</td>\n",
              "      <td>1</td>\n",
              "    </tr>\n",
              "    <tr>\n",
              "      <th>3</th>\n",
              "      <td>https://clickhole.com/bridging-the-divide-chri...</td>\n",
              "      <td>Bridging The Divide: Christian And Muslim Show...</td>\n",
              "      <td>1</td>\n",
              "    </tr>\n",
              "    <tr>\n",
              "      <th>4</th>\n",
              "      <td>https://clickhole.com/we-get-it-you-re-here-a-...</td>\n",
              "      <td>We Get It, You’re Here A Lot: This Guy’s Girlf...</td>\n",
              "      <td>1</td>\n",
              "    </tr>\n",
              "    <tr>\n",
              "      <th>...</th>\n",
              "      <td>...</td>\n",
              "      <td>...</td>\n",
              "      <td>...</td>\n",
              "    </tr>\n",
              "    <tr>\n",
              "      <th>24002</th>\n",
              "      <td>https://www.betootaadvocate.com/uncategorized/...</td>\n",
              "      <td>Local Mature-Age Student Adds Another Valuable...</td>\n",
              "      <td>1</td>\n",
              "    </tr>\n",
              "    <tr>\n",
              "      <th>24003</th>\n",
              "      <td>https://www.betootaadvocate.com/uncategorized/...</td>\n",
              "      <td>Local Woman Transitions Into Late 30s By Makin...</td>\n",
              "      <td>1</td>\n",
              "    </tr>\n",
              "    <tr>\n",
              "      <th>24004</th>\n",
              "      <td>https://www.betootaadvocate.com/uncategorized/...</td>\n",
              "      <td>Report: NRL Mole Definitely Should Have Said S...</td>\n",
              "      <td>1</td>\n",
              "    </tr>\n",
              "    <tr>\n",
              "      <th>24005</th>\n",
              "      <td>https://toronto.citynews.ca/2021/06/11/a-look-...</td>\n",
              "      <td>A look at COVID-19 vaccinations in Canada on F...</td>\n",
              "      <td>1</td>\n",
              "    </tr>\n",
              "    <tr>\n",
              "      <th>24006</th>\n",
              "      <td>https://toronto.citynews.ca/2021/06/11/the-lat...</td>\n",
              "      <td>The latest numbers on COVID-19 in Canada for F...</td>\n",
              "      <td>1</td>\n",
              "    </tr>\n",
              "  </tbody>\n",
              "</table>\n",
              "<p>24007 rows × 3 columns</p>\n",
              "</div>"
            ],
            "text/plain": [
              "                                            article_link  ... is_sarcastic\n",
              "0      https://clickhole.com/finally-the-indians-are-...  ...            1\n",
              "1      https://clickhole.com/end-of-an-era-with-donal...  ...            1\n",
              "2      https://clickhole.com/culture-shock-everything...  ...            1\n",
              "3      https://clickhole.com/bridging-the-divide-chri...  ...            1\n",
              "4      https://clickhole.com/we-get-it-you-re-here-a-...  ...            1\n",
              "...                                                  ...  ...          ...\n",
              "24002  https://www.betootaadvocate.com/uncategorized/...  ...            1\n",
              "24003  https://www.betootaadvocate.com/uncategorized/...  ...            1\n",
              "24004  https://www.betootaadvocate.com/uncategorized/...  ...            1\n",
              "24005  https://toronto.citynews.ca/2021/06/11/a-look-...  ...            1\n",
              "24006  https://toronto.citynews.ca/2021/06/11/the-lat...  ...            1\n",
              "\n",
              "[24007 rows x 3 columns]"
            ]
          },
          "metadata": {
            "tags": []
          },
          "execution_count": 9
        }
      ]
    },
    {
      "cell_type": "code",
      "metadata": {
        "id": "olt1hyQqPWD4"
      },
      "source": [
        "data1 = data1.drop_duplicates()"
      ],
      "execution_count": 10,
      "outputs": []
    },
    {
      "cell_type": "markdown",
      "metadata": {
        "id": "dU9gFHGTPJAY"
      },
      "source": [
        "* **Gộp 2 file**"
      ]
    },
    {
      "cell_type": "code",
      "metadata": {
        "id": "TnISJqC9PIRg"
      },
      "source": [
        "data = data1.append(data0)"
      ],
      "execution_count": 11,
      "outputs": []
    },
    {
      "cell_type": "markdown",
      "metadata": {
        "id": "pMYe5K5vP87O"
      },
      "source": [
        "* **Shuffle dữ liệu**"
      ]
    },
    {
      "cell_type": "code",
      "metadata": {
        "colab": {
          "base_uri": "https://localhost:8080/",
          "height": 419
        },
        "id": "jbOQ9ibYQBJy",
        "outputId": "ed712f4c-ed2c-444c-b669-019a26a0562c"
      },
      "source": [
        "data = data.sample(frac=1).reset_index(drop=True)\n",
        "data"
      ],
      "execution_count": 12,
      "outputs": [
        {
          "output_type": "execute_result",
          "data": {
            "text/html": [
              "<div>\n",
              "<style scoped>\n",
              "    .dataframe tbody tr th:only-of-type {\n",
              "        vertical-align: middle;\n",
              "    }\n",
              "\n",
              "    .dataframe tbody tr th {\n",
              "        vertical-align: top;\n",
              "    }\n",
              "\n",
              "    .dataframe thead th {\n",
              "        text-align: right;\n",
              "    }\n",
              "</style>\n",
              "<table border=\"1\" class=\"dataframe\">\n",
              "  <thead>\n",
              "    <tr style=\"text-align: right;\">\n",
              "      <th></th>\n",
              "      <th>article_link</th>\n",
              "      <th>headline</th>\n",
              "      <th>is_sarcastic</th>\n",
              "    </tr>\n",
              "  </thead>\n",
              "  <tbody>\n",
              "    <tr>\n",
              "      <th>0</th>\n",
              "      <td>https://toronto.citynews.ca/2020/03/12/stock-m...</td>\n",
              "      <td>Worst day on Wall Street since 1987 as virus f...</td>\n",
              "      <td>0</td>\n",
              "    </tr>\n",
              "    <tr>\n",
              "      <th>1</th>\n",
              "      <td>https://www.betootaadvocate.com/headlines/if-y...</td>\n",
              "      <td>“If You’re Worried About This Jab We Don’t Hav...</td>\n",
              "      <td>1</td>\n",
              "    </tr>\n",
              "    <tr>\n",
              "      <th>2</th>\n",
              "      <td>https://toronto.citynews.ca/2019/09/09/former-...</td>\n",
              "      <td>Former justice Marie Deschamps named to panel ...</td>\n",
              "      <td>0</td>\n",
              "    </tr>\n",
              "    <tr>\n",
              "      <th>3</th>\n",
              "      <td>https://toronto.citynews.ca/2018/12/20/nafta-d...</td>\n",
              "      <td>NAFTA drama earns Chrystia Freeland CP's Busin...</td>\n",
              "      <td>0</td>\n",
              "    </tr>\n",
              "    <tr>\n",
              "      <th>4</th>\n",
              "      <td>https://toronto.citynews.ca/2018/12/12/canada-...</td>\n",
              "      <td>If courts decide to extradite Huawei exec, jus...</td>\n",
              "      <td>0</td>\n",
              "    </tr>\n",
              "    <tr>\n",
              "      <th>...</th>\n",
              "      <td>...</td>\n",
              "      <td>...</td>\n",
              "      <td>...</td>\n",
              "    </tr>\n",
              "    <tr>\n",
              "      <th>45350</th>\n",
              "      <td>https://toronto.citynews.ca/2020/08/31/trade-m...</td>\n",
              "      <td>Trade minister says she'll keep eye on U.S. pr...</td>\n",
              "      <td>0</td>\n",
              "    </tr>\n",
              "    <tr>\n",
              "      <th>45351</th>\n",
              "      <td>https://toronto.citynews.ca/2019/10/08/climate...</td>\n",
              "      <td>Climate protesters shut down bridges in Canadi...</td>\n",
              "      <td>0</td>\n",
              "    </tr>\n",
              "    <tr>\n",
              "      <th>45352</th>\n",
              "      <td>https://www.betootaadvocate.com/breaking-news/...</td>\n",
              "      <td>Barilaro: “Gladys Is Out Of Touch With Average...</td>\n",
              "      <td>1</td>\n",
              "    </tr>\n",
              "    <tr>\n",
              "      <th>45353</th>\n",
              "      <td>https://toronto.citynews.ca/2020/02/19/opposit...</td>\n",
              "      <td>Opposition promises new info on Trans Mountain...</td>\n",
              "      <td>0</td>\n",
              "    </tr>\n",
              "    <tr>\n",
              "      <th>45354</th>\n",
              "      <td>https://thehardtimes.net/harddrive/mario-cant-...</td>\n",
              "      <td>Mario Can’t Get Resume Under 10 Pages</td>\n",
              "      <td>1</td>\n",
              "    </tr>\n",
              "  </tbody>\n",
              "</table>\n",
              "<p>45355 rows × 3 columns</p>\n",
              "</div>"
            ],
            "text/plain": [
              "                                            article_link  ... is_sarcastic\n",
              "0      https://toronto.citynews.ca/2020/03/12/stock-m...  ...            0\n",
              "1      https://www.betootaadvocate.com/headlines/if-y...  ...            1\n",
              "2      https://toronto.citynews.ca/2019/09/09/former-...  ...            0\n",
              "3      https://toronto.citynews.ca/2018/12/20/nafta-d...  ...            0\n",
              "4      https://toronto.citynews.ca/2018/12/12/canada-...  ...            0\n",
              "...                                                  ...  ...          ...\n",
              "45350  https://toronto.citynews.ca/2020/08/31/trade-m...  ...            0\n",
              "45351  https://toronto.citynews.ca/2019/10/08/climate...  ...            0\n",
              "45352  https://www.betootaadvocate.com/breaking-news/...  ...            1\n",
              "45353  https://toronto.citynews.ca/2020/02/19/opposit...  ...            0\n",
              "45354  https://thehardtimes.net/harddrive/mario-cant-...  ...            1\n",
              "\n",
              "[45355 rows x 3 columns]"
            ]
          },
          "metadata": {
            "tags": []
          },
          "execution_count": 12
        }
      ]
    },
    {
      "cell_type": "markdown",
      "metadata": {
        "id": "5Ze6zi0f9KZ5"
      },
      "source": [
        "###**Nhận xét :**\n",
        "* Thu thập được tổng cộng 24005 tiêu đề báo châm biếm, 58855 tiêu đề báo chính thống\n",
        "* Số lượng báo chính thống gấp hơn 2 lần so với báo châm biếm \n",
        "* Chênh lệch dữ liệu này có thể dẫn đến sai lệch độ chính xác của model "
      ]
    },
    {
      "cell_type": "markdown",
      "metadata": {
        "id": "JxHu1rXj-VL7"
      },
      "source": [
        "## **III. Tiền xử lý dữ liệu :**"
      ]
    },
    {
      "cell_type": "code",
      "metadata": {
        "id": "LgZ7dSQzPsCd"
      },
      "source": [
        "X = data[\"headline\"].values\n",
        "y = data[\"is_sarcastic\"].values"
      ],
      "execution_count": 13,
      "outputs": []
    },
    {
      "cell_type": "markdown",
      "metadata": {
        "id": "hJ5JArKTcX7W"
      },
      "source": [
        "### **1. Tạo vocalbulary theo data đã thu thập :**"
      ]
    },
    {
      "cell_type": "code",
      "metadata": {
        "id": "d69qLFejj1UF"
      },
      "source": [
        "stop_words = set(stopwords.words('english')) # Vd: a, an ,is ,..."
      ],
      "execution_count": null,
      "outputs": []
    },
    {
      "cell_type": "code",
      "metadata": {
        "id": "u3CfWbcw_Q_9"
      },
      "source": [
        "# tập các từ tiếng Anh của thư viện nltk\n",
        "corpora_nltk = brown.words(categories='news')"
      ],
      "execution_count": 19,
      "outputs": []
    },
    {
      "cell_type": "code",
      "metadata": {
        "id": "8Yuz4EHv5f36"
      },
      "source": [
        "\n",
        "def preprocessing(text): # Loại bỏ các kí tự không phải alphabet, chuyển sang chữ thường, loại bỏ các stop word\n",
        "  table = str.maketrans('', '', string.punctuation)\n",
        "  stripped = [w.translate(table) for w in text]\n",
        "  words = [word for word in stripped if word.isalpha()]\n",
        "\n",
        "  words = [w for w in words if not w in stop_words]\n",
        "\n",
        "  vocabulary = [w.lower() for w in words]\n",
        "  vocabulary = list(dict.fromkeys(vocabulary))\n",
        "  return vocabulary"
      ],
      "execution_count": 20,
      "outputs": []
    },
    {
      "cell_type": "code",
      "metadata": {
        "id": "FJ8s8I6i_6oc"
      },
      "source": [
        "corpora_nltk = preprocessing(corpora_nltk)"
      ],
      "execution_count": 92,
      "outputs": []
    },
    {
      "cell_type": "markdown",
      "metadata": {
        "id": "2QECE2k-c7d3"
      },
      "source": [
        "### **2. Chia train, test :**"
      ]
    },
    {
      "cell_type": "code",
      "metadata": {
        "id": "Vc1IGIYLQjVG"
      },
      "source": [
        "X_train, X_test, y_train, y_test = train_test_split(X, y, test_size=0.25, random_state=1000)"
      ],
      "execution_count": 22,
      "outputs": []
    },
    {
      "cell_type": "code",
      "metadata": {
        "colab": {
          "base_uri": "https://localhost:8080/"
        },
        "id": "ZOvBXRb-QPtd",
        "outputId": "d5a741a6-4998-4eeb-9fb3-95ddcd750e4a"
      },
      "source": [
        "print(\"X_train size : \" + str(X_train.shape))\n",
        "print(\"X_test size : \" + str(X_test.shape))"
      ],
      "execution_count": 26,
      "outputs": [
        {
          "output_type": "stream",
          "text": [
            "X_train size : (34016,)\n",
            "X_test size : (11339,)\n"
          ],
          "name": "stdout"
        }
      ]
    },
    {
      "cell_type": "markdown",
      "metadata": {
        "id": "4qzMTr_A0_6o"
      },
      "source": [
        "### **3. Dùng CountVectorizer để vectorize (đếm số lần xuất hiện) :**\n"
      ]
    },
    {
      "cell_type": "markdown",
      "metadata": {
        "id": "cVOs0z6ydLdu"
      },
      "source": [
        "* Hàm trả về ma trận scipy.sparse.csr.csr_matrix lưu trữ vị trí của từ đó trong từ điển và số lần xuất hiện trong câu :"
      ]
    },
    {
      "cell_type": "code",
      "metadata": {
        "colab": {
          "base_uri": "https://localhost:8080/"
        },
        "id": "5sBJaMkBQ_rG",
        "outputId": "9d127d85-b1d8-4618-a436-31fe2d4a1de9"
      },
      "source": [
        "vectorizer_CV = CountVectorizer(stop_words = stop_words, vocabulary = corpora_nltk, strip_accents = 'ascii')\n",
        "vectorizer_CV.fit(X_train)\n",
        "\n",
        "X_train_CV = vectorizer_CV.transform(X_train)\n",
        "X_test_CV  = vectorizer_CV.transform(X_test)\n",
        "print(X_train_CV.shape)"
      ],
      "execution_count": 27,
      "outputs": [
        {
          "output_type": "stream",
          "text": [
            "(34016, 12085)\n"
          ],
          "name": "stdout"
        }
      ]
    },
    {
      "cell_type": "markdown",
      "metadata": {
        "id": "E8Q4gcl31avE"
      },
      "source": [
        "### **4. Dùng TF-IDF:**"
      ]
    },
    {
      "cell_type": "markdown",
      "metadata": {
        "id": "0lOYhRRLdku4"
      },
      "source": [
        "![tf.webp](data:image/webp;base64,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)\n",
        "\n",
        "Trong đó :\n",
        "* tf(t, d) : tần suất xuất hiện của từ trong văn bản d\n",
        "* f(t, d) : số lần xuất hiện của từ t trong văn bản d\n",
        "* max({f(w, d) : w ∈ d}): số lần xuất hiện của từ có số lần xuất hiện nhiều nhất trong văn bản d"
      ]
    },
    {
      "cell_type": "markdown",
      "metadata": {
        "id": "7N5ZYS_Ze1HR"
      },
      "source": [
        "![idf.webp](data:image/webp;base64,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)\n",
        "\n",
        "Trong đó:\n",
        "* idf(t, D): giá trị của từ t trong tập văn bản D\n",
        "* |D|: Tổng số văn bản trong tập D\n",
        "* |{d ∈ D : t ∈ d}|: thể hiện số văn bản trong tập D có chứa từ t"
      ]
    },
    {
      "cell_type": "code",
      "metadata": {
        "colab": {
          "base_uri": "https://localhost:8080/"
        },
        "id": "zN2X7ESA2CqA",
        "outputId": "86552c32-8423-4df2-8e05-ed7f257314ba"
      },
      "source": [
        "vectorizer_TF = TfidfVectorizer(stop_words = stop_words, vocabulary = corpora_nltk, strip_accents = 'ascii')\n",
        "vectorizer_TF.fit(X_train)\n",
        "\n",
        "X_train_TF = vectorizer_TF.transform(X_train)\n",
        "X_test_TF  = vectorizer_TF.transform(X_test)\n",
        "print(X_train_TF.shape)"
      ],
      "execution_count": 28,
      "outputs": [
        {
          "output_type": "stream",
          "text": [
            "(34016, 12085)\n"
          ],
          "name": "stdout"
        }
      ]
    },
    {
      "cell_type": "markdown",
      "metadata": {
        "id": "7gxIDtz3cMxf"
      },
      "source": [
        "## **IV. Train model:**"
      ]
    },
    {
      "cell_type": "markdown",
      "metadata": {
        "id": "FsnqA3GzM_m6"
      },
      "source": [
        "* Chúng em sử dụng nhiều thuật toán máy học khác nhau cho bài toán phân lớp này để có thể chọn được thuật toán có accuracy cao nhất."
      ]
    },
    {
      "cell_type": "markdown",
      "metadata": {
        "id": "13y5pj5uft8X"
      },
      "source": [
        "### **1. Support vector machine (SVM)**"
      ]
    },
    {
      "cell_type": "code",
      "metadata": {
        "id": "TknvcZKO7-tj"
      },
      "source": [
        "classifier_SVM_CV = LinearSVC().fit(X_train_CV, y_train)\n",
        "score_SVM_CV = classifier_SVM_CV.score(X_test_CV, y_test)"
      ],
      "execution_count": 29,
      "outputs": []
    },
    {
      "cell_type": "code",
      "metadata": {
        "id": "DBXN7XQp8-Q3"
      },
      "source": [
        "classifier_SVM_TF = LinearSVC().fit(X_train_TF, y_train)\n",
        "score_SVM_TF = classifier_SVM_TF.score(X_test_TF, y_test)"
      ],
      "execution_count": 30,
      "outputs": []
    },
    {
      "cell_type": "markdown",
      "metadata": {
        "id": "hN-KfCmsf4T1"
      },
      "source": [
        "### **2. Logistic Regression**"
      ]
    },
    {
      "cell_type": "code",
      "metadata": {
        "id": "uDvedAPNsZYO"
      },
      "source": [
        "classifier_LR_CV = LogisticRegression().fit(X_train_CV, y_train)\n",
        "score_LR_CV = classifier_LR_CV.score(X_test_CV, y_test)"
      ],
      "execution_count": 31,
      "outputs": []
    },
    {
      "cell_type": "code",
      "metadata": {
        "id": "yxu-_I3a2dX-"
      },
      "source": [
        "classifier_LR_TF = LogisticRegression().fit(X_train_TF, y_train)\n",
        "score_LR_TF = classifier_LR_TF.score(X_test_TF, y_test)"
      ],
      "execution_count": 32,
      "outputs": []
    },
    {
      "cell_type": "markdown",
      "metadata": {
        "id": "gHCNo17zhkf-"
      },
      "source": [
        "### **3. Ridge classifier**"
      ]
    },
    {
      "cell_type": "code",
      "metadata": {
        "id": "8lAnAwOwhuaJ"
      },
      "source": [
        "classifier_RR_CV = RidgeClassifier().fit(X_train_CV, y_train)\n",
        "score_RR_CV = classifier_RR_CV.score(X_test_CV, y_test)"
      ],
      "execution_count": 33,
      "outputs": []
    },
    {
      "cell_type": "code",
      "metadata": {
        "id": "cSf1Qh-4ieUm"
      },
      "source": [
        "classifier_RR_TF = RidgeClassifier().fit(X_train_TF, y_train)\n",
        "score_RR_TF= classifier_RR_TF.score(X_test_TF, y_test)"
      ],
      "execution_count": 34,
      "outputs": []
    },
    {
      "cell_type": "markdown",
      "metadata": {
        "id": "tURafIzHis4v"
      },
      "source": [
        "### **4. SGD classifier:**"
      ]
    },
    {
      "cell_type": "code",
      "metadata": {
        "id": "UzUbs3qCjkCk"
      },
      "source": [
        "classifier_SGD_CV = SGDClassifier().fit(X_train_CV, y_train)\n",
        "score_SGD_CV = classifier_SGD_CV.score(X_test_CV, y_test)"
      ],
      "execution_count": 35,
      "outputs": []
    },
    {
      "cell_type": "code",
      "metadata": {
        "id": "uSKRiS3sjOQm"
      },
      "source": [
        "classifier_SGD_TF = SGDClassifier().fit(X_train_TF, y_train)\n",
        "score_SGD_TF = classifier_SGD_TF.score(X_test_TF, y_test)"
      ],
      "execution_count": 36,
      "outputs": []
    },
    {
      "cell_type": "markdown",
      "metadata": {
        "id": "NuX65UYqoza3"
      },
      "source": [
        "### **5. K-Neighbors Classifier**"
      ]
    },
    {
      "cell_type": "code",
      "metadata": {
        "id": "pAZs0w1Poyc-"
      },
      "source": [
        "classifier_KNC_CV = KNeighborsClassifier(n_neighbors=2)\n",
        "classifier_KNC_CV.fit(X_train_CV, y_train)\n",
        "score_KNC_CV = classifier_KNC_CV.score(X_test_CV, y_test)"
      ],
      "execution_count": 37,
      "outputs": []
    },
    {
      "cell_type": "code",
      "metadata": {
        "id": "TFO10dJop8ve"
      },
      "source": [
        "classifier_KNC_TF = KNeighborsClassifier(n_neighbors=2)\n",
        "classifier_KNC_TF.fit(X_train_TF, y_train)\n",
        "score_KNC_TF = classifier_KNC_TF.score(X_test_TF, y_test)"
      ],
      "execution_count": 38,
      "outputs": []
    },
    {
      "cell_type": "markdown",
      "metadata": {
        "id": "6a7AftI9JKE1"
      },
      "source": [
        "### **6. So sánh các model với bộ dữ liệu train test chia ra từ 6 trang thu thập được**"
      ]
    },
    {
      "cell_type": "code",
      "metadata": {
        "colab": {
          "base_uri": "https://localhost:8080/",
          "height": 1000
        },
        "id": "0nDM10HLJKRP",
        "outputId": "c3d0c204-def9-44fc-f6b2-2d51aa816dd5"
      },
      "source": [
        "X = X_train_CV.copy()\n",
        "Y = y_train.copy()\n",
        "classifier_names = ['Linear SVM',\n",
        "                    'Logistic Regression',\n",
        "                    'K-Nearest Neighbors',\n",
        "                    'SGD Classifier',\n",
        "                    \"Rigde Classifier\"]\n",
        "\n",
        "\n",
        "classifiers = [LinearSVC(),\n",
        "               LogisticRegression(),\n",
        "               KNeighborsClassifier(2),\n",
        "               SGDClassifier(),\n",
        "               RidgeClassifier()]\n",
        "plot_data=[]\n",
        "name=[]\n",
        "times = [1,2,3,4,5,6,7,8,9,10]\n",
        "colors = ['red','blue','yellow','black', 'pink']\n",
        "clf_data=zip(classifier_names, classifiers, colors)\n",
        "plt.figure(figsize= (15,8))\n",
        "for clf_name, clf, cl in clf_data:\n",
        "    print('Running '+clf_name)\n",
        "    kf=StratifiedKFold(n_splits=10, shuffle=True)\n",
        "    scores=cross_val_score(clf, X, Y, cv=kf)\n",
        "    print(scores)\n",
        "    plt.plot(times,scores, color = cl, markersize = 10)\n",
        "    name.append(clf_name)\n",
        "    plot_data.append(\n",
        "        go.Scatter(\n",
        "            x=[i+1 for i in range(10)],\n",
        "            y=scores,\n",
        "            mode='lines',\n",
        "            name=clf_name\n",
        "        )\n",
        "    )\n",
        "plt.xlim(0,13)\n",
        "plt.legend(name, loc = 'upper right')\n",
        "\n",
        "plt.xlabel('Fold no')\n",
        "plt.ylabel('Accuracy')"
      ],
      "execution_count": 39,
      "outputs": [
        {
          "output_type": "stream",
          "text": [
            "Running Linear SVM\n",
            "[0.84979424 0.8462669  0.8409759  0.85390947 0.84244562 0.83862434\n",
            " 0.84886798 0.85445457 0.84269333 0.84210526]\n",
            "Running Logistic Regression\n"
          ],
          "name": "stdout"
        },
        {
          "output_type": "stream",
          "text": [
            "/usr/local/lib/python3.7/dist-packages/sklearn/linear_model/_logistic.py:940: ConvergenceWarning:\n",
            "\n",
            "lbfgs failed to converge (status=1):\n",
            "STOP: TOTAL NO. of ITERATIONS REACHED LIMIT.\n",
            "\n",
            "Increase the number of iterations (max_iter) or scale the data as shown in:\n",
            "    https://scikit-learn.org/stable/modules/preprocessing.html\n",
            "Please also refer to the documentation for alternative solver options:\n",
            "    https://scikit-learn.org/stable/modules/linear_model.html#logistic-regression\n",
            "\n",
            "/usr/local/lib/python3.7/dist-packages/sklearn/linear_model/_logistic.py:940: ConvergenceWarning:\n",
            "\n",
            "lbfgs failed to converge (status=1):\n",
            "STOP: TOTAL NO. of ITERATIONS REACHED LIMIT.\n",
            "\n",
            "Increase the number of iterations (max_iter) or scale the data as shown in:\n",
            "    https://scikit-learn.org/stable/modules/preprocessing.html\n",
            "Please also refer to the documentation for alternative solver options:\n",
            "    https://scikit-learn.org/stable/modules/linear_model.html#logistic-regression\n",
            "\n",
            "/usr/local/lib/python3.7/dist-packages/sklearn/linear_model/_logistic.py:940: ConvergenceWarning:\n",
            "\n",
            "lbfgs failed to converge (status=1):\n",
            "STOP: TOTAL NO. of ITERATIONS REACHED LIMIT.\n",
            "\n",
            "Increase the number of iterations (max_iter) or scale the data as shown in:\n",
            "    https://scikit-learn.org/stable/modules/preprocessing.html\n",
            "Please also refer to the documentation for alternative solver options:\n",
            "    https://scikit-learn.org/stable/modules/linear_model.html#logistic-regression\n",
            "\n",
            "/usr/local/lib/python3.7/dist-packages/sklearn/linear_model/_logistic.py:940: ConvergenceWarning:\n",
            "\n",
            "lbfgs failed to converge (status=1):\n",
            "STOP: TOTAL NO. of ITERATIONS REACHED LIMIT.\n",
            "\n",
            "Increase the number of iterations (max_iter) or scale the data as shown in:\n",
            "    https://scikit-learn.org/stable/modules/preprocessing.html\n",
            "Please also refer to the documentation for alternative solver options:\n",
            "    https://scikit-learn.org/stable/modules/linear_model.html#logistic-regression\n",
            "\n"
          ],
          "name": "stderr"
        },
        {
          "output_type": "stream",
          "text": [
            "[0.85243974 0.86125808 0.84068195 0.85626102 0.8547913  0.85920047\n",
            " 0.85651279 0.86856807 0.84563364 0.86386357]\n",
            "Running K-Nearest Neighbors\n",
            "[0.69958848 0.68606702 0.67695473 0.67548501 0.68371546 0.67283951\n",
            " 0.67186122 0.69420759 0.68656278 0.66950897]\n",
            "Running SGD Classifier\n",
            "[0.84861846 0.8633157  0.85008818 0.84303351 0.85655497 0.84567901\n",
            " 0.85680682 0.8594531  0.85357248 0.85768892]\n",
            "Running Rigde Classifier\n",
            "[0.84773663 0.84479718 0.85449735 0.83686067 0.84567901 0.85302763\n",
            " 0.8415172  0.84445751 0.84445751 0.84592767]\n"
          ],
          "name": "stdout"
        },
        {
          "output_type": "execute_result",
          "data": {
            "text/plain": [
              "Text(0, 0.5, 'Accuracy')"
            ]
          },
          "metadata": {
            "tags": []
          },
          "execution_count": 39
        },
        {
          "output_type": "display_data",
          "data": {
            "image/png": "[encoded data removed]",
            "text/plain": [
              "<Figure size 1080x576 with 1 Axes>"
            ]
          },
          "metadata": {
            "tags": [],
            "needs_background": "light"
          }
        }
      ]
    },
    {
      "cell_type": "markdown",
      "metadata": {
        "id": "M0vqeJuvK081"
      },
      "source": [
        "### **7. Nhận xét :**\n",
        "* Hầu hết các model đều cho được accuracy >= 0.85, chỉ riêng K-Neighbors thấp hơn rất nhiều nên sẽ không sử dụng để predict.\n",
        "* Các model đều cho thấy accuracy của dữ liệu khi xử lý bằng CountVectorizer và TF-IDF Vectorizer đều tương đương nhau."
      ]
    },
    {
      "cell_type": "markdown",
      "metadata": {
        "id": "KNilmxhEAvDq"
      },
      "source": [
        "## **V. Predict model với 2 trang khác :**"
      ]
    },
    {
      "cell_type": "markdown",
      "metadata": {
        "id": "1inVN2oSN2o8"
      },
      "source": [
        "### **1. Crawl dữ liệu từ 2 trang khác 6 trang đã train dể predict model:**"
      ]
    },
    {
      "cell_type": "markdown",
      "metadata": {
        "id": "JAhqjUArF00c"
      },
      "source": [
        "**Báo châm biếm :**\n",
        "* The Burrad Street Journal - Canada: https://www.burrardstreetjournal.com/"
      ]
    },
    {
      "cell_type": "code",
      "metadata": {
        "id": "mzTUvgn-A0R_"
      },
      "source": [
        "for year in range(18, 22):\n",
        "  for month in range(1,13):\n",
        "    paper = \"https://www.burrardstreetjournal.com/20\"+ str(year) +\"/\" + str(month) +\"/\"\n",
        "    response = requests.get(paper)\n",
        "    soup = BeautifulSoup(response.content, \"html.parser\")\n",
        "    titles = soup.findAll('h3', class_ = 'entry-title td-module-title')\n",
        "    links = [link.find('a').attrs[\"href\"] for link in titles]\n",
        "\n",
        "    with open(\"/content/drive/MyDrive/ML/Sarcasm_data/1_test.json\", 'a') as f:\n",
        "        for link in links:\n",
        "            news = requests.get(link)\n",
        "            soup = BeautifulSoup(news.content, \"html.parser\")\n",
        "            title = soup.find(\"h1\", class_ = \"entry-title\").text\n",
        "            data = {\n",
        "                    \"article_link\" : link,\n",
        "                    \"headline\" : title,\n",
        "                    \"is_sarcastic\" : 1\n",
        "                }\n",
        "            json.dump(data, f)\n",
        "            f.write(\"\\n\")\n",
        "    print(str(month) + \"/\" + str(year))"
      ],
      "execution_count": null,
      "outputs": []
    },
    {
      "cell_type": "code",
      "metadata": {
        "id": "-dORwylwWXvo",
        "colab": {
          "base_uri": "https://localhost:8080/",
          "height": 419
        },
        "outputId": "fe3a858b-855d-4d05-e930-cec3204ff4e8"
      },
      "source": [
        "d1 = pd.read_json(\"/content/drive/MyDrive/ML/Sarcasm_data/1_test.json\", lines = True)\n",
        "d1"
      ],
      "execution_count": 50,
      "outputs": [
        {
          "output_type": "execute_result",
          "data": {
            "text/html": [
              "<div>\n",
              "<style scoped>\n",
              "    .dataframe tbody tr th:only-of-type {\n",
              "        vertical-align: middle;\n",
              "    }\n",
              "\n",
              "    .dataframe tbody tr th {\n",
              "        vertical-align: top;\n",
              "    }\n",
              "\n",
              "    .dataframe thead th {\n",
              "        text-align: right;\n",
              "    }\n",
              "</style>\n",
              "<table border=\"1\" class=\"dataframe\">\n",
              "  <thead>\n",
              "    <tr style=\"text-align: right;\">\n",
              "      <th></th>\n",
              "      <th>article_link</th>\n",
              "      <th>headline</th>\n",
              "      <th>is_sarcastic</th>\n",
              "    </tr>\n",
              "  </thead>\n",
              "  <tbody>\n",
              "    <tr>\n",
              "      <th>0</th>\n",
              "      <td>https://www.burrardstreetjournal.com/cristiano...</td>\n",
              "      <td>BREAKING: Cristiano Ronaldo Charged With Sexua...</td>\n",
              "      <td>1</td>\n",
              "    </tr>\n",
              "    <tr>\n",
              "      <th>1</th>\n",
              "      <td>https://www.burrardstreetjournal.com/sanchez-m...</td>\n",
              "      <td>‘Sanchez Move To Be Completed In Next Few Minu...</td>\n",
              "      <td>1</td>\n",
              "    </tr>\n",
              "    <tr>\n",
              "      <th>2</th>\n",
              "      <td>https://www.burrardstreetjournal.com/5-signs-y...</td>\n",
              "      <td>5 Signs You’re Secretly A Stable Genius</td>\n",
              "      <td>1</td>\n",
              "    </tr>\n",
              "    <tr>\n",
              "      <th>3</th>\n",
              "      <td>https://www.burrardstreetjournal.com/mayor-rob...</td>\n",
              "      <td>Mayor Robertson ‘Proud’ To Have Fulfilled Prom...</td>\n",
              "      <td>1</td>\n",
              "    </tr>\n",
              "    <tr>\n",
              "      <th>4</th>\n",
              "      <td>https://www.burrardstreetjournal.com/luis-suar...</td>\n",
              "      <td>Luis Suarez Claims Firmino Is ‘Completely Inno...</td>\n",
              "      <td>1</td>\n",
              "    </tr>\n",
              "    <tr>\n",
              "      <th>...</th>\n",
              "      <td>...</td>\n",
              "      <td>...</td>\n",
              "      <td>...</td>\n",
              "    </tr>\n",
              "    <tr>\n",
              "      <th>354</th>\n",
              "      <td>https://www.burrardstreetjournal.com/donald-tr...</td>\n",
              "      <td>Donald Trump Jr. Tests Positive For Being A Di...</td>\n",
              "      <td>1</td>\n",
              "    </tr>\n",
              "    <tr>\n",
              "      <th>355</th>\n",
              "      <td>https://www.burrardstreetjournal.com/kanye-dem...</td>\n",
              "      <td>Refusing To Concede, Kanye Demands Full Recoun...</td>\n",
              "      <td>1</td>\n",
              "    </tr>\n",
              "    <tr>\n",
              "      <th>356</th>\n",
              "      <td>https://www.burrardstreetjournal.com/mancheste...</td>\n",
              "      <td>Man Utd Make Last-Minute Bid To Re-Sign Maroua...</td>\n",
              "      <td>1</td>\n",
              "    </tr>\n",
              "    <tr>\n",
              "      <th>357</th>\n",
              "      <td>https://www.burrardstreetjournal.com/trump-adv...</td>\n",
              "      <td>Trump Advised To Drink As Much Bleach As Possible</td>\n",
              "      <td>1</td>\n",
              "    </tr>\n",
              "    <tr>\n",
              "      <th>358</th>\n",
              "      <td>https://www.burrardstreetjournal.com/phil-jone...</td>\n",
              "      <td>Phil Jones Shocked To Discover Football Has Re...</td>\n",
              "      <td>1</td>\n",
              "    </tr>\n",
              "  </tbody>\n",
              "</table>\n",
              "<p>359 rows × 3 columns</p>\n",
              "</div>"
            ],
            "text/plain": [
              "                                          article_link  ... is_sarcastic\n",
              "0    https://www.burrardstreetjournal.com/cristiano...  ...            1\n",
              "1    https://www.burrardstreetjournal.com/sanchez-m...  ...            1\n",
              "2    https://www.burrardstreetjournal.com/5-signs-y...  ...            1\n",
              "3    https://www.burrardstreetjournal.com/mayor-rob...  ...            1\n",
              "4    https://www.burrardstreetjournal.com/luis-suar...  ...            1\n",
              "..                                                 ...  ...          ...\n",
              "354  https://www.burrardstreetjournal.com/donald-tr...  ...            1\n",
              "355  https://www.burrardstreetjournal.com/kanye-dem...  ...            1\n",
              "356  https://www.burrardstreetjournal.com/mancheste...  ...            1\n",
              "357  https://www.burrardstreetjournal.com/trump-adv...  ...            1\n",
              "358  https://www.burrardstreetjournal.com/phil-jone...  ...            1\n",
              "\n",
              "[359 rows x 3 columns]"
            ]
          },
          "metadata": {
            "tags": []
          },
          "execution_count": 50
        }
      ]
    },
    {
      "cell_type": "markdown",
      "metadata": {
        "id": "ys7ex3V6v3B2"
      },
      "source": [
        "**Báo chính thống :**\n",
        "* The euronews - English : https://www.euronews.com/"
      ]
    },
    {
      "cell_type": "code",
      "metadata": {
        "id": "Juf5utufBMse"
      },
      "source": [
        "for year in range(18,22):\n",
        "  for month in range(1,13):\n",
        "    for day in range(1,32):     \n",
        "      paper = \"https://www.euronews.com/20\"+str(year)+\"/\"+str(month)+\"/\"+str(day)\n",
        "      response = requests.get(paper)\n",
        "      soup = BeautifulSoup(response.content, \"html.parser\")\n",
        "      titles = soup.findAll('h3', class_ = \"m-object__title qa-article-title\")\n",
        "      links = [link.find('a').attrs[\"href\"] for link in titles]\n",
        "      for link in links:\n",
        "        try:\n",
        "          a = \"https://www.euronews.com\"\n",
        "          news = requests.get(a + link)\n",
        "          soup = BeautifulSoup(news.content, \"html.parser\")\n",
        "          title = soup.find(\"h1\", class_ = \"c-article-title u-display-inline u-text-align--start\").text\n",
        "          data = {\n",
        "          \"article_link\" : a + link,\n",
        "          \"headline\" : title,\n",
        "          \"is_sarcastic\" : 0\n",
        "          }\n",
        "          with open(\"/content/drive/MyDrive/ML/Sarcasm_data/0_test.json\", 'a') as f:\n",
        "            json.dump(data, f)\n",
        "            f.write(\"\\n\")\n",
        "        except:\n",
        "          continue"
      ],
      "execution_count": null,
      "outputs": []
    },
    {
      "cell_type": "code",
      "metadata": {
        "colab": {
          "base_uri": "https://localhost:8080/",
          "height": 419
        },
        "id": "zeZh6xFvl621",
        "outputId": "061305a1-68de-40ef-f12e-2e6f19de853f"
      },
      "source": [
        "d2 = pd.read_json('/content/drive/MyDrive/ML/Sarcasm_data/0_test.json', lines= True, encoding=\"utf-8-sig\")\n",
        "d2 = d2.drop_duplicates()\n",
        "d2"
      ],
      "execution_count": 43,
      "outputs": [
        {
          "output_type": "execute_result",
          "data": {
            "text/html": [
              "<div>\n",
              "<style scoped>\n",
              "    .dataframe tbody tr th:only-of-type {\n",
              "        vertical-align: middle;\n",
              "    }\n",
              "\n",
              "    .dataframe tbody tr th {\n",
              "        vertical-align: top;\n",
              "    }\n",
              "\n",
              "    .dataframe thead th {\n",
              "        text-align: right;\n",
              "    }\n",
              "</style>\n",
              "<table border=\"1\" class=\"dataframe\">\n",
              "  <thead>\n",
              "    <tr style=\"text-align: right;\">\n",
              "      <th></th>\n",
              "      <th>article_link</th>\n",
              "      <th>headline</th>\n",
              "      <th>is_sarcastic</th>\n",
              "    </tr>\n",
              "  </thead>\n",
              "  <tbody>\n",
              "    <tr>\n",
              "      <th>0</th>\n",
              "      <td>https://www.euronews.com/2018/01/10/southern-e...</td>\n",
              "      <td>\\n    Southern EU leaders wrestle with migrati...</td>\n",
              "      <td>0</td>\n",
              "    </tr>\n",
              "    <tr>\n",
              "      <th>1</th>\n",
              "      <td>https://www.euronews.com/2018/01/10/ces-2018-p...</td>\n",
              "      <td>\\n    Power outage hits tech's biggest trade s...</td>\n",
              "      <td>0</td>\n",
              "    </tr>\n",
              "    <tr>\n",
              "      <th>2</th>\n",
              "      <td>https://www.euronews.com/2018/01/10/why-pay-ga...</td>\n",
              "      <td>\\n    Why the 'All the Money in the World' pay...</td>\n",
              "      <td>0</td>\n",
              "    </tr>\n",
              "    <tr>\n",
              "      <th>3</th>\n",
              "      <td>https://www.euronews.com/2018/01/10/memphis-pa...</td>\n",
              "      <td>\\n    Pastor admits to past 'sexual incident' ...</td>\n",
              "      <td>0</td>\n",
              "    </tr>\n",
              "    <tr>\n",
              "      <th>4</th>\n",
              "      <td>https://www.euronews.com/2018/01/10/santa-barb...</td>\n",
              "      <td>\\n    Santa Barbara shocked by loss of life in...</td>\n",
              "      <td>0</td>\n",
              "    </tr>\n",
              "    <tr>\n",
              "      <th>...</th>\n",
              "      <td>...</td>\n",
              "      <td>...</td>\n",
              "      <td>...</td>\n",
              "    </tr>\n",
              "    <tr>\n",
              "      <th>18898</th>\n",
              "      <td>https://www.euronews.com/2021/06/15/mps-in-hun...</td>\n",
              "      <td>\\n    MPs in Hungary back ban on sharing conte...</td>\n",
              "      <td>0</td>\n",
              "    </tr>\n",
              "    <tr>\n",
              "      <th>18899</th>\n",
              "      <td>https://www.euronews.com/2021/06/15/daniel-mor...</td>\n",
              "      <td>\\n    Daniel Morgan: 'Institutional corruption...</td>\n",
              "      <td>0</td>\n",
              "    </tr>\n",
              "    <tr>\n",
              "      <th>18900</th>\n",
              "      <td>https://www.euronews.com/2021/06/15/ikea-franc...</td>\n",
              "      <td>\\n    Ikea France fined €1 million for spying ...</td>\n",
              "      <td>0</td>\n",
              "    </tr>\n",
              "    <tr>\n",
              "      <th>18901</th>\n",
              "      <td>https://www.euronews.com/2021/06/15/eu-and-us-...</td>\n",
              "      <td>\\n    EU and US reach deal to end Airbus-Boein...</td>\n",
              "      <td>0</td>\n",
              "    </tr>\n",
              "    <tr>\n",
              "      <th>18902</th>\n",
              "      <td>https://www.euronews.com/2021/06/15/euro-2020-...</td>\n",
              "      <td>\\n    EURO 2020: Austria's Marko Arnautovic de...</td>\n",
              "      <td>0</td>\n",
              "    </tr>\n",
              "  </tbody>\n",
              "</table>\n",
              "<p>18884 rows × 3 columns</p>\n",
              "</div>"
            ],
            "text/plain": [
              "                                            article_link  ... is_sarcastic\n",
              "0      https://www.euronews.com/2018/01/10/southern-e...  ...            0\n",
              "1      https://www.euronews.com/2018/01/10/ces-2018-p...  ...            0\n",
              "2      https://www.euronews.com/2018/01/10/why-pay-ga...  ...            0\n",
              "3      https://www.euronews.com/2018/01/10/memphis-pa...  ...            0\n",
              "4      https://www.euronews.com/2018/01/10/santa-barb...  ...            0\n",
              "...                                                  ...  ...          ...\n",
              "18898  https://www.euronews.com/2021/06/15/mps-in-hun...  ...            0\n",
              "18899  https://www.euronews.com/2021/06/15/daniel-mor...  ...            0\n",
              "18900  https://www.euronews.com/2021/06/15/ikea-franc...  ...            0\n",
              "18901  https://www.euronews.com/2021/06/15/eu-and-us-...  ...            0\n",
              "18902  https://www.euronews.com/2021/06/15/euro-2020-...  ...            0\n",
              "\n",
              "[18884 rows x 3 columns]"
            ]
          },
          "metadata": {
            "tags": []
          },
          "execution_count": 43
        }
      ]
    },
    {
      "cell_type": "code",
      "metadata": {
        "colab": {
          "base_uri": "https://localhost:8080/",
          "height": 419
        },
        "id": "rxTnG7O9liK4",
        "outputId": "b885c2c3-5bed-4158-9224-966f7023444f"
      },
      "source": [
        "d_test = d1.append(d2)\n",
        "d_test = d_test.sample(frac=1).reset_index(drop=True)\n",
        "d_test"
      ],
      "execution_count": 51,
      "outputs": [
        {
          "output_type": "execute_result",
          "data": {
            "text/html": [
              "<div>\n",
              "<style scoped>\n",
              "    .dataframe tbody tr th:only-of-type {\n",
              "        vertical-align: middle;\n",
              "    }\n",
              "\n",
              "    .dataframe tbody tr th {\n",
              "        vertical-align: top;\n",
              "    }\n",
              "\n",
              "    .dataframe thead th {\n",
              "        text-align: right;\n",
              "    }\n",
              "</style>\n",
              "<table border=\"1\" class=\"dataframe\">\n",
              "  <thead>\n",
              "    <tr style=\"text-align: right;\">\n",
              "      <th></th>\n",
              "      <th>article_link</th>\n",
              "      <th>headline</th>\n",
              "      <th>is_sarcastic</th>\n",
              "    </tr>\n",
              "  </thead>\n",
              "  <tbody>\n",
              "    <tr>\n",
              "      <th>0</th>\n",
              "      <td>https://www.euronews.com/2018/08/12/manchester...</td>\n",
              "      <td>\\n    Manchester gunfight leaves children inju...</td>\n",
              "      <td>0</td>\n",
              "    </tr>\n",
              "    <tr>\n",
              "      <th>1</th>\n",
              "      <td>https://www.euronews.com/2020/12/18/it-makes-n...</td>\n",
              "      <td>\\n    'It makes no sense': Russia's doping ban...</td>\n",
              "      <td>0</td>\n",
              "    </tr>\n",
              "    <tr>\n",
              "      <th>2</th>\n",
              "      <td>https://www.euronews.com/2018/07/01/judge-temp...</td>\n",
              "      <td>\\n    Judge temporarily blocks FEMA from endin...</td>\n",
              "      <td>0</td>\n",
              "    </tr>\n",
              "    <tr>\n",
              "      <th>3</th>\n",
              "      <td>https://www.euronews.com/2019/04/27/trieste-ma...</td>\n",
              "      <td>\\n    Trieste marathon excludes African runner...</td>\n",
              "      <td>0</td>\n",
              "    </tr>\n",
              "    <tr>\n",
              "      <th>4</th>\n",
              "      <td>https://www.euronews.com/2018/12/27/christmas-...</td>\n",
              "      <td>\\n    Christmastime assault, possible robbery ...</td>\n",
              "      <td>0</td>\n",
              "    </tr>\n",
              "    <tr>\n",
              "      <th>...</th>\n",
              "      <td>...</td>\n",
              "      <td>...</td>\n",
              "      <td>...</td>\n",
              "    </tr>\n",
              "    <tr>\n",
              "      <th>19238</th>\n",
              "      <td>https://www.euronews.com/2020/07/31/who-are-th...</td>\n",
              "      <td>\\n    Who are the real winners and losers of t...</td>\n",
              "      <td>0</td>\n",
              "    </tr>\n",
              "    <tr>\n",
              "      <th>19239</th>\n",
              "      <td>https://www.euronews.com/2018/12/30/twin-nasa-...</td>\n",
              "      <td>\\n    Twin NASA probes cap 2018 &amp; start 2019 w...</td>\n",
              "      <td>0</td>\n",
              "    </tr>\n",
              "    <tr>\n",
              "      <th>19240</th>\n",
              "      <td>https://www.euronews.com/2020/07/31/belarus-pr...</td>\n",
              "      <td>\\n    Belarus presidential elections: Meet the...</td>\n",
              "      <td>0</td>\n",
              "    </tr>\n",
              "    <tr>\n",
              "      <th>19241</th>\n",
              "      <td>https://www.euronews.com/2021/06/12/us-justice...</td>\n",
              "      <td>\\n    US: Justice probe after revelations Trum...</td>\n",
              "      <td>0</td>\n",
              "    </tr>\n",
              "    <tr>\n",
              "      <th>19242</th>\n",
              "      <td>https://www.euronews.com/2020/07/27/ryanair-sh...</td>\n",
              "      <td>\\n    Ryanair shares fall as COVID-19 brings €...</td>\n",
              "      <td>0</td>\n",
              "    </tr>\n",
              "  </tbody>\n",
              "</table>\n",
              "<p>19243 rows × 3 columns</p>\n",
              "</div>"
            ],
            "text/plain": [
              "                                            article_link  ... is_sarcastic\n",
              "0      https://www.euronews.com/2018/08/12/manchester...  ...            0\n",
              "1      https://www.euronews.com/2020/12/18/it-makes-n...  ...            0\n",
              "2      https://www.euronews.com/2018/07/01/judge-temp...  ...            0\n",
              "3      https://www.euronews.com/2019/04/27/trieste-ma...  ...            0\n",
              "4      https://www.euronews.com/2018/12/27/christmas-...  ...            0\n",
              "...                                                  ...  ...          ...\n",
              "19238  https://www.euronews.com/2020/07/31/who-are-th...  ...            0\n",
              "19239  https://www.euronews.com/2018/12/30/twin-nasa-...  ...            0\n",
              "19240  https://www.euronews.com/2020/07/31/belarus-pr...  ...            0\n",
              "19241  https://www.euronews.com/2021/06/12/us-justice...  ...            0\n",
              "19242  https://www.euronews.com/2020/07/27/ryanair-sh...  ...            0\n",
              "\n",
              "[19243 rows x 3 columns]"
            ]
          },
          "metadata": {
            "tags": []
          },
          "execution_count": 51
        }
      ]
    },
    {
      "cell_type": "code",
      "metadata": {
        "colab": {
          "base_uri": "https://localhost:8080/",
          "height": 419
        },
        "id": "qpWbeWTzWWPb",
        "outputId": "9b2f67b2-1ed4-4865-b7bf-262e1999ecc7"
      },
      "source": [
        "data = data.sample(frac=1).reset_index(drop=True)\n",
        "data"
      ],
      "execution_count": 75,
      "outputs": [
        {
          "output_type": "execute_result",
          "data": {
            "text/html": [
              "<div>\n",
              "<style scoped>\n",
              "    .dataframe tbody tr th:only-of-type {\n",
              "        vertical-align: middle;\n",
              "    }\n",
              "\n",
              "    .dataframe tbody tr th {\n",
              "        vertical-align: top;\n",
              "    }\n",
              "\n",
              "    .dataframe thead th {\n",
              "        text-align: right;\n",
              "    }\n",
              "</style>\n",
              "<table border=\"1\" class=\"dataframe\">\n",
              "  <thead>\n",
              "    <tr style=\"text-align: right;\">\n",
              "      <th></th>\n",
              "      <th>article_link</th>\n",
              "      <th>headline</th>\n",
              "      <th>is_sarcastic</th>\n",
              "    </tr>\n",
              "  </thead>\n",
              "  <tbody>\n",
              "    <tr>\n",
              "      <th>0</th>\n",
              "      <td>https://bestinau.com.au/kim-kendall-and-kylie-...</td>\n",
              "      <td>Kim, Kendall, and Kylie roasted over ongoing A...</td>\n",
              "      <td>0</td>\n",
              "    </tr>\n",
              "    <tr>\n",
              "      <th>1</th>\n",
              "      <td>https://toronto.citynews.ca/2018/12/16/quebece...</td>\n",
              "      <td>Quebecers criticize western oil but buying mor...</td>\n",
              "      <td>0</td>\n",
              "    </tr>\n",
              "    <tr>\n",
              "      <th>2</th>\n",
              "      <td>https://thehardtimes.net/music/ex-underoath-fa...</td>\n",
              "      <td>Ex-Underøath Fan Devoutly Tweets Death Threats...</td>\n",
              "      <td>1</td>\n",
              "    </tr>\n",
              "    <tr>\n",
              "      <th>3</th>\n",
              "      <td>https://www.betootaadvocate.com/uncategorized/...</td>\n",
              "      <td>Now That Channel 9 Has Axed The Ellen Show, Ho...</td>\n",
              "      <td>1</td>\n",
              "    </tr>\n",
              "    <tr>\n",
              "      <th>4</th>\n",
              "      <td>https://toronto.citynews.ca/2021/05/27/moderna...</td>\n",
              "      <td>Moderna to ship 2M vaccine doses to Canada by ...</td>\n",
              "      <td>0</td>\n",
              "    </tr>\n",
              "    <tr>\n",
              "      <th>...</th>\n",
              "      <td>...</td>\n",
              "      <td>...</td>\n",
              "      <td>...</td>\n",
              "    </tr>\n",
              "    <tr>\n",
              "      <th>45350</th>\n",
              "      <td>https://thehardtimes.net/culture/someone-broke...</td>\n",
              "      <td>“Someone Broke a Bottle Over There,” Warns Guy...</td>\n",
              "      <td>1</td>\n",
              "    </tr>\n",
              "    <tr>\n",
              "      <th>45351</th>\n",
              "      <td>https://www.betootaadvocate.com/uncategorized/...</td>\n",
              "      <td>Jesus Christ Confirms He Disowned Israel Folau...</td>\n",
              "      <td>1</td>\n",
              "    </tr>\n",
              "    <tr>\n",
              "      <th>45352</th>\n",
              "      <td>https://toronto.citynews.ca/2021/05/06/house-p...</td>\n",
              "      <td>House parties and other gatherings blamed for ...</td>\n",
              "      <td>0</td>\n",
              "    </tr>\n",
              "    <tr>\n",
              "      <th>45353</th>\n",
              "      <td>https://toronto.citynews.ca/2021/02/12/former-...</td>\n",
              "      <td>Former Obama adviser Podesta on Biden's Keysto...</td>\n",
              "      <td>0</td>\n",
              "    </tr>\n",
              "    <tr>\n",
              "      <th>45354</th>\n",
              "      <td>https://toronto.citynews.ca/2019/01/19/america...</td>\n",
              "      <td>Americans face deadline to file paperwork for ...</td>\n",
              "      <td>0</td>\n",
              "    </tr>\n",
              "  </tbody>\n",
              "</table>\n",
              "<p>45355 rows × 3 columns</p>\n",
              "</div>"
            ],
            "text/plain": [
              "                                            article_link  ... is_sarcastic\n",
              "0      https://bestinau.com.au/kim-kendall-and-kylie-...  ...            0\n",
              "1      https://toronto.citynews.ca/2018/12/16/quebece...  ...            0\n",
              "2      https://thehardtimes.net/music/ex-underoath-fa...  ...            1\n",
              "3      https://www.betootaadvocate.com/uncategorized/...  ...            1\n",
              "4      https://toronto.citynews.ca/2021/05/27/moderna...  ...            0\n",
              "...                                                  ...  ...          ...\n",
              "45350  https://thehardtimes.net/culture/someone-broke...  ...            1\n",
              "45351  https://www.betootaadvocate.com/uncategorized/...  ...            1\n",
              "45352  https://toronto.citynews.ca/2021/05/06/house-p...  ...            0\n",
              "45353  https://toronto.citynews.ca/2021/02/12/former-...  ...            0\n",
              "45354  https://toronto.citynews.ca/2019/01/19/america...  ...            0\n",
              "\n",
              "[45355 rows x 3 columns]"
            ]
          },
          "metadata": {
            "tags": []
          },
          "execution_count": 75
        }
      ]
    },
    {
      "cell_type": "code",
      "metadata": {
        "colab": {
          "base_uri": "https://localhost:8080/"
        },
        "id": "di491UBwWYcH",
        "outputId": "440cb89b-4296-4134-9aae-e4f18bd5d38b"
      },
      "source": [
        "X_train = data[\"headline\"]\n",
        "Y_train = data[\"is_sarcastic\"]\n",
        "print(\"X_train size : \" + str(len(X_train)))"
      ],
      "execution_count": 78,
      "outputs": [
        {
          "output_type": "stream",
          "text": [
            "X_train size : 45355\n"
          ],
          "name": "stdout"
        }
      ]
    },
    {
      "cell_type": "code",
      "metadata": {
        "id": "eGvwxcUOqqa0",
        "colab": {
          "base_uri": "https://localhost:8080/"
        },
        "outputId": "94825396-739a-435a-abea-ad97f421287a"
      },
      "source": [
        "X_test = d_test[\"headline\"]\n",
        "y_test = d_test[\"is_sarcastic\"]\n",
        "print(\"X_test size : \" + str(len(X_test)))"
      ],
      "execution_count": 79,
      "outputs": [
        {
          "output_type": "stream",
          "text": [
            "X_test size : 19243\n"
          ],
          "name": "stdout"
        }
      ]
    },
    {
      "cell_type": "code",
      "metadata": {
        "colab": {
          "base_uri": "https://localhost:8080/"
        },
        "id": "c7MbbWcrXgiy",
        "outputId": "e5c7508f-53ec-4a45-dfd9-0e9d7be36590"
      },
      "source": [
        "vectorizer_TF.fit(X_train)\n",
        "X_train_TF = vectorizer_TF.transform(X_train)\n",
        "X_train_TF"
      ],
      "execution_count": 87,
      "outputs": [
        {
          "output_type": "execute_result",
          "data": {
            "text/plain": [
              "<45355x12085 sparse matrix of type '<class 'numpy.float64'>'\n",
              "\twith 242126 stored elements in Compressed Sparse Row format>"
            ]
          },
          "metadata": {
            "tags": []
          },
          "execution_count": 87
        }
      ]
    },
    {
      "cell_type": "code",
      "metadata": {
        "colab": {
          "base_uri": "https://localhost:8080/"
        },
        "id": "Zzba_P5HqcRn",
        "outputId": "589b8792-b53e-4e70-b59e-a2b328946099"
      },
      "source": [
        "vectorizer_TF.fit(X_test)\n",
        "X_test_TF = vectorizer_TF.transform(X_test)\n",
        "X_test_TF"
      ],
      "execution_count": 82,
      "outputs": [
        {
          "output_type": "execute_result",
          "data": {
            "text/plain": [
              "<19243x12085 sparse matrix of type '<class 'numpy.float64'>'\n",
              "\twith 100528 stored elements in Compressed Sparse Row format>"
            ]
          },
          "metadata": {
            "tags": []
          },
          "execution_count": 82
        }
      ]
    },
    {
      "cell_type": "markdown",
      "metadata": {
        "id": "DShiuxQYmvCm"
      },
      "source": [
        "### **2. Visualize kết quả predict với data từ 2 trang khác :**\n"
      ]
    },
    {
      "cell_type": "code",
      "metadata": {
        "colab": {
          "base_uri": "https://localhost:8080/",
          "height": 422
        },
        "id": "4Tc0bdBEs0sp",
        "outputId": "c308e9ae-45f2-44e8-e66b-a44ae78f3b41"
      },
      "source": [
        "X = X_test_TF.copy()\n",
        "Y = y_test.copy()\n",
        " \n",
        "left = [1, 2, 3, 4]\n",
        "  \n",
        "scores = []\n",
        "  \n",
        "models = ['Linear SVM','Logistic Regression','SGD Classifier',\"Rigde Classifier\"]\n",
        "classifiers = [classifier_SVM_CV, classifier_LR_CV, classifier_SGD_CV, classifier_RR_CV] \n",
        "\n",
        "clf_data=zip(classifier_names, classifiers)\n",
        "\n",
        "for clf_name, clf in clf_data: \n",
        "  clf.fit(X_train_TF, Y_train)\n",
        "  score = clf.score(X, Y)\n",
        "  scores.append(score)\n",
        "fig = plt.figure(figsize = (10,5))\n",
        "ax = fig.add_axes([0,0,1,1])\n",
        "ax.bar(left, height = scores, tick_label = models, width = 0.5, color = ['red', 'green'])\n",
        " \n",
        "ax.set_xlabel('Models')\n",
        "\n",
        "ax.set_ylabel('Accuracy')\n",
        "\n",
        "plt.show()"
      ],
      "execution_count": 91,
      "outputs": [
        {
          "output_type": "display_data",
          "data": {
            "image/png": "[encoded data removed]",
            "text/plain": [
              "<Figure size 720x360 with 1 Axes>"
            ]
          },
          "metadata": {
            "tags": [],
            "needs_background": "light"
          }
        }
      ]
    },
    {
      "cell_type": "markdown",
      "metadata": {
        "id": "Df1x2Y1pZveP"
      },
      "source": [
        "## **VI. Nhận xét chung :**\n",
        "\n",
        "\n",
        "1.   Về việc xây dựng với 6 trang đã thu thập từ trước, vì đây là bài toán Binary Classificationn nên các model mà nhóm chọn có kết quả tương đương nhau nhưng Logistic Regression có kết quả cao nhất (acc ~ 0.868), thấp nhất là K-Nearest Neighbors (acc ~ 0.669)\n",
        "2.   Về việc xây dựng model với 6 bài báo cũ làm train và 2 bài báo mới làm test thì cũng cho kết quả thấp hơn 1 ít (-0.05) vì từ ngữ và văn phong của 2 bài báo mới có nhiều phần khác so với những bài báo cũ. Các model đều cho ra kết quả tương đương nhau với acc ~ 0.75 -> 0.8\n",
        "\n"
      ]
    }
  ]
}