{
  "nbformat": 4,
  "nbformat_minor": 0,
  "metadata": {
    "colab": {
      "name": "Sarcasm_crawler.ipynb",
      "provenance": [],
      "mount_file_id": "1riaajbT9J_HubP8K44X9Q5bWblV8vwaW",
      "authorship_tag": "ABX9TyP6eSQQc5E+qzch4beJuPkK",
      "include_colab_link": true
    },
    "kernelspec": {
      "name": "python3",
      "display_name": "Python 3"
    },
    "language_info": {
      "name": "python"
    }
  },
  "cells": [
    {
      "cell_type": "markdown",
      "metadata": {
        "id": "view-in-github",
        "colab_type": "text"
      },
      "source": [
        "<a href=\"https://colab.research.google.com/github/NMT201/CS114.L21/blob/patch-1/Sarcasm_crawler.ipynb\" target=\"_parent\"><img src=\"https://colab.research.google.com/assets/colab-badge.svg\" alt=\"Open In Colab\"/></a>"
      ]
    },
    {
      "cell_type": "markdown",
      "metadata": {
        "id": "N-cw8GAsY3kc"
      },
      "source": [
        "## **THU THẬP DỮ LIỆU CHO BÀI TOÁN SARCASM DETECTION IN NEWS** "
      ]
    },
    {
      "cell_type": "markdown",
      "metadata": {
        "id": "km4uqZmHbWuR"
      },
      "source": [
        "* Import các thư viện cần thiết:"
      ]
    },
    {
      "cell_type": "code",
      "metadata": {
        "id": "i5z5ZM2Achwq"
      },
      "source": [
        "import pandas as pd\n",
        "import requests\n",
        "from bs4 import BeautifulSoup\n",
        "import json"
      ],
      "execution_count": null,
      "outputs": []
    },
    {
      "cell_type": "markdown",
      "metadata": {
        "id": "fjtUui5NZH4J"
      },
      "source": [
        "#1. Crawl dữ liệu từ các trang châm biếm vào file 1.json: \n",
        "\n"
      ]
    },
    {
      "cell_type": "markdown",
      "metadata": {
        "id": "Tam4XWQFbHvU"
      },
      "source": [
        "* The Betoota Advocate - Canada : http://betootaadvocate.com/ "
      ]
    },
    {
      "cell_type": "code",
      "metadata": {
        "id": "Y3TMEdp0HeM-"
      },
      "source": [
        "for page in range(1, 80):\n",
        "    paper = \"https://www.betootaadvocate.com/category/breaking-news/page/\"+ str(page) +\"/\"\n",
        "    response = requests.get(paper)\n",
        "    soup = BeautifulSoup(response.content, \"html.parser\")\n",
        "    titles = soup.findAll('div', class_ = 'td-module-thumb')\n",
        "    links = [link.find('a').attrs[\"href\"] for link in titles]\n",
        "\n",
        "    with open(\"/content/drive/MyDrive/ML/1.json\", 'a') as f:\n",
        "        for link in links:\n",
        "            news = requests.get(link)\n",
        "            soup = BeautifulSoup(news.content, \"html.parser\")\n",
        "            title = soup.find(\"h1\", class_ = \"entry-title\").text\n",
        "            data = {\n",
        "                    \"article_link\" : link,\n",
        "                    \"headline\" : title,\n",
        "                    \"is_sarcastic\" : 1\n",
        "                }\n",
        "            json.dump(data, f)\n",
        "            f.write(\"\\n\")\n"
      ],
      "execution_count": null,
      "outputs": []
    },
    {
      "cell_type": "markdown",
      "metadata": {
        "id": "IKFNmMDAqKyl"
      },
      "source": [
        "* Clickhole - U.S : https://clickhole.com/"
      ]
    },
    {
      "cell_type": "code",
      "metadata": {
        "id": "GwZuJicqq0Ld"
      },
      "source": [
        "for page in range(1, 250):\n",
        "    paper = \"https://clickhole.com/page/\"+ str(page) +\"/\"\n",
        "    response = requests.get(paper)\n",
        "    soup = BeautifulSoup(response.content, \"html.parser\")\n",
        "    titles = soup.findAll('h2', class_ = 'post-title')\n",
        "    links = [link.find('a').attrs[\"href\"] for link in titles]\n",
        "\n",
        "    with open(\"/content/drive/MyDrive/ML/1.json\", 'a') as f:\n",
        "        for link in links:\n",
        "            news = requests.get(link)\n",
        "            soup = BeautifulSoup(news.content, \"html.parser\")\n",
        "            title = soup.find(\"h1\", class_ = \"post-title\").text\n",
        "            data = {\n",
        "                    \"article_link\" : link,\n",
        "                    \"headline\" : title,\n",
        "                    \"is_sarcastic\" : 1\n",
        "                }\n",
        "            json.dump(data, f)\n",
        "            f.write(\"\\n\")"
      ],
      "execution_count": null,
      "outputs": []
    },
    {
      "cell_type": "markdown",
      "metadata": {
        "id": "y0yhl0kFri5u"
      },
      "source": [
        "* The Daily Bonnet - Canada : https://dailybonnet.com/"
      ]
    },
    {
      "cell_type": "code",
      "metadata": {
        "id": "3ZP2PVTrsIP3"
      },
      "source": [
        "for page in range(1, 85):\n",
        "    paper = \"https://thehardtimes.net/page/\"+ str(page) + \"/\"\n",
        "    response = requests.get(paper)\n",
        "    soup = BeautifulSoup(response.content, \"html.parser\")\n",
        "    titles = soup.findAll('h2', class_ = 'post-title')\n",
        "    links = [link.find('a').attrs[\"href\"] for link in titles]\n",
        "\n",
        "    with open(\"/content/drive/MyDrive/ML/1.json\", 'a') as f:\n",
        "        for link in links:\n",
        "            news = requests.get(link)\n",
        "            soup = BeautifulSoup(news.content, \"html.parser\")\n",
        "            title = soup.find(\"h1\", class_ = \"entry-title\").text\n",
        "            data = {\n",
        "                    \"article_link\" : link,\n",
        "                    \"headline\" : title,\n",
        "                    \"is_sarcastic\" : 1\n",
        "                }\n",
        "            json.dump(data, f)\n",
        "            f.write(\"\\n\")"
      ],
      "execution_count": null,
      "outputs": []
    },
    {
      "cell_type": "markdown",
      "metadata": {
        "id": "gEQtHaXF3mMH"
      },
      "source": [
        "* The Hard Times - U.S : https://thehardtimes.net/"
      ]
    },
    {
      "cell_type": "code",
      "metadata": {
        "id": "iXFcYUnE3rmM"
      },
      "source": [
        "for page in range(1, 250):\n",
        "    paper = \"https://dailybonnet.com/category/mennonitelife/\" + str(page) \"/\"\n",
        "    response = requests.get(paper)\n",
        "    soup = BeautifulSoup(response.content, \"html.parser\")\n",
        "    titles = soup.findAll('h3', class_ = 'entry-title mh-posts-list-title')\n",
        "    links = [link.find('a').attrs[\"href\"] for link in titles]\n",
        "\n",
        "    with open(\"/content/drive/MyDrive/ML/1.json\", 'a') as f:\n",
        "        for link in links:\n",
        "            news = requests.get(link)\n",
        "            soup = BeautifulSoup(news.content, \"html.parser\")\n",
        "            title = soup.find(\"h1\", class_ = \"entry-title\").text\n",
        "            data = {\n",
        "                    \"article_link\" : link,\n",
        "                    \"headline\" : title,\n",
        "                    \"is_sarcastic\" : 1\n",
        "                }\n",
        "            json.dump(data, f)\n",
        "            f.write(\"\\n\")"
      ],
      "execution_count": null,
      "outputs": []
    },
    {
      "cell_type": "markdown",
      "metadata": {
        "id": "VcMwfPew4D-e"
      },
      "source": [
        "# 2. Crawl dữ liệu từ các trang chính thống vào file 0.json :"
      ]
    },
    {
      "cell_type": "markdown",
      "metadata": {
        "id": "I9XL96Tn4Pf3"
      },
      "source": [
        "* Best in AU : https://bestinau.com.au/"
      ]
    },
    {
      "cell_type": "code",
      "metadata": {
        "id": "QQT4SQ1-4PLS"
      },
      "source": [
        "for  category in [\"celebrity\", \"news\", \"interview\", \"movies\", \"entertainment\", \"technology\", \"sport\", \"politics\"]\n",
        "  for page in range(1, 30):\n",
        "      paper = \"https://bestinau.com.au/category/\"+ category +\"/page/\"+ str(page) +\"/\"\n",
        "      response = requests.get(paper)\n",
        "      soup = BeautifulSoup(response.content, \"html.parser\")\n",
        "      titles = soup.findAll('h3', class_ = 'entry-title td-module-title')\n",
        "      links = [link.find('a').attrs[\"href\"] for link in titles]\n",
        "\n",
        "      with open(\"/content/drive/MyDrive/ML/0.json\", 'a') as f:\n",
        "          for link in links:\n",
        "              news = requests.get(link)\n",
        "              soup = BeautifulSoup(news.content, \"html.parser\")\n",
        "              title = soup.find(\"h1\", class_ = \"entry-title\").text  \n",
        "              data = {\n",
        "                      \"article_link\" : link,\n",
        "                      \"headline\" : title,\n",
        "                      \"is_sarcastic\" : 1\n",
        "                  }\n",
        "              json.dump(data, f)\n",
        "              f.write(\"\\n\")"
      ],
      "execution_count": null,
      "outputs": []
    },
    {
      "cell_type": "markdown",
      "metadata": {
        "id": "PK8MU6KbCayd"
      },
      "source": [
        "* TIME : https://time.com/"
      ]
    },
    {
      "cell_type": "code",
      "metadata": {
        "id": "Qex_USr8CkAj"
      },
      "source": [
        "for page in range(1, 500):\n",
        "    paper = \"https://time.com/section/us/?page=\" + str(page)\n",
        "    response = requests.get(paper)\n",
        "    soup = BeautifulSoup(response.content, \"html.parser\")\n",
        "    titles = soup.findAll('h3', class_ = 'entry-title mh-posts-list-title')\n",
        "    links = [link.find('a').attrs[\"href\"] for link in titles]\n",
        "\n",
        "    with open(\"/content/drive/MyDrive/ML/0.json\", 'a') as f:\n",
        "        for link in links:\n",
        "            news = requests.get(\"https://time.com/\" + link)\n",
        "            soup = BeautifulSoup(news.content, \"html.parser\")\n",
        "            title = soup.find(\"h1\", class_ = \"entry-title\").text\n",
        "            data = {\n",
        "                    \"article_link\" : \"https://time.com/\" + link,\n",
        "                    \"headline\" : title,\n",
        "                    \"is_sarcastic\" : 1\n",
        "                }\n",
        "            json.dump(data, f)\n",
        "            f.write(\"\\n\")"
      ],
      "execution_count": null,
      "outputs": []
    },
    {
      "cell_type": "markdown",
      "metadata": {
        "id": "Eapr0rJDDdpO"
      },
      "source": [
        "* City News Everywhere : https://toronto.citynews.ca/"
      ]
    },
    {
      "cell_type": "code",
      "metadata": {
        "id": "tEUfuBYJDcwx"
      },
      "source": [
        "for page in range(1, 150):\n",
        "    print(page)\n",
        "    paper = \"https://toronto.citynews.ca/category/national/page/\"+ str(page) + \"/\"\n",
        "    response = requests.get(paper)\n",
        "    soup = BeautifulSoup(response.content, \"html.parser\")\n",
        "    titles = soup.findAll('div', class_ = 'col-lg-13 col-md-13 col-sm-13')\n",
        "    links = [link.find('a').attrs[\"href\"] for link in titles]\n",
        "    \n",
        "    with open(\"/content/drive/MyDrive/ML/0.json\", 'a') as f:\n",
        "        for link in links:\n",
        "            news = requests.get(link)\n",
        "            soup = BeautifulSoup(news.content, \"html.parser\")\n",
        "            title = soup.find(\"h1\", class_ = \"headline\").text\n",
        "            data = {\n",
        "                    \"article_link\" : link,\n",
        "                    \"headline\" : title,\n",
        "                    \"is_sarcastic\" : 0\n",
        "                }\n",
        "            json.dump(data, f)\n",
        "            f.write(\"\\n\")\n"
      ],
      "execution_count": null,
      "outputs": []
    },
    {
      "cell_type": "markdown",
      "metadata": {
        "id": "mGDNbAf0ERi7"
      },
      "source": [
        "# 3. Gộp 2 file vừa crawl được:"
      ]
    },
    {
      "cell_type": "markdown",
      "metadata": {
        "id": "Glgfmuc4EhL9"
      },
      "source": [
        "* File các headlines báo chính thống "
      ]
    },
    {
      "cell_type": "code",
      "metadata": {
        "id": "Qn-JxA97whz_",
        "colab": {
          "base_uri": "https://localhost:8080/",
          "height": 204
        },
        "outputId": "cefc65c5-7d21-4f0e-ac93-4efa26eaea6f"
      },
      "source": [
        "data1 = pd.read_json('/content/drive/MyDrive/ML/1.json', lines = True)\n",
        "data1.head()"
      ],
      "execution_count": null,
      "outputs": [
        {
          "output_type": "execute_result",
          "data": {
            "text/html": [
              "<div>\n",
              "<style scoped>\n",
              "    .dataframe tbody tr th:only-of-type {\n",
              "        vertical-align: middle;\n",
              "    }\n",
              "\n",
              "    .dataframe tbody tr th {\n",
              "        vertical-align: top;\n",
              "    }\n",
              "\n",
              "    .dataframe thead th {\n",
              "        text-align: right;\n",
              "    }\n",
              "</style>\n",
              "<table border=\"1\" class=\"dataframe\">\n",
              "  <thead>\n",
              "    <tr style=\"text-align: right;\">\n",
              "      <th></th>\n",
              "      <th>article_link</th>\n",
              "      <th>headline</th>\n",
              "      <th>is_sarcastic</th>\n",
              "    </tr>\n",
              "  </thead>\n",
              "  <tbody>\n",
              "    <tr>\n",
              "      <th>0</th>\n",
              "      <td>http://betootaadvocate.com/https://www.betoota...</td>\n",
              "      <td>Boomer Journo Pens Unbiased Opinion Piece On A...</td>\n",
              "      <td>1</td>\n",
              "    </tr>\n",
              "    <tr>\n",
              "      <th>1</th>\n",
              "      <td>http://betootaadvocate.com/https://www.betoota...</td>\n",
              "      <td>Clive Palmer Is Stuck In An Empty Pool And He ...</td>\n",
              "      <td>1</td>\n",
              "    </tr>\n",
              "    <tr>\n",
              "      <th>2</th>\n",
              "      <td>http://betootaadvocate.com/https://www.betoota...</td>\n",
              "      <td>Joel Fitzgibbon Getting Nervous After NSW Labo...</td>\n",
              "      <td>1</td>\n",
              "    </tr>\n",
              "    <tr>\n",
              "      <th>3</th>\n",
              "      <td>http://betootaadvocate.com/https://www.betoota...</td>\n",
              "      <td>Man Avoids Unnecessary Human Interaction By Pr...</td>\n",
              "      <td>1</td>\n",
              "    </tr>\n",
              "    <tr>\n",
              "      <th>4</th>\n",
              "      <td>http://betootaadvocate.com/https://www.betoota...</td>\n",
              "      <td>Local Man Saves Turtle From Having Straw Pulle...</td>\n",
              "      <td>1</td>\n",
              "    </tr>\n",
              "  </tbody>\n",
              "</table>\n",
              "</div>"
            ],
            "text/plain": [
              "                                        article_link  ... is_sarcastic\n",
              "0  http://betootaadvocate.com/https://www.betoota...  ...            1\n",
              "1  http://betootaadvocate.com/https://www.betoota...  ...            1\n",
              "2  http://betootaadvocate.com/https://www.betoota...  ...            1\n",
              "3  http://betootaadvocate.com/https://www.betoota...  ...            1\n",
              "4  http://betootaadvocate.com/https://www.betoota...  ...            1\n",
              "\n",
              "[5 rows x 3 columns]"
            ]
          },
          "metadata": {
            "tags": []
          },
          "execution_count": 14
        }
      ]
    },
    {
      "cell_type": "markdown",
      "metadata": {
        "id": "Bj7pz-_qEo3v"
      },
      "source": [
        "* File các headlines báo châm biếm "
      ]
    },
    {
      "cell_type": "code",
      "metadata": {
        "id": "Q5kp1VVU9Ciw",
        "colab": {
          "base_uri": "https://localhost:8080/",
          "height": 204
        },
        "outputId": "52a866a4-caa2-4ba1-cffc-ad5c8c7b6795"
      },
      "source": [
        "data0 = pd.read_json('/content/drive/MyDrive/ML/0.json', lines = True)\n",
        "data0.head()\n"
      ],
      "execution_count": null,
      "outputs": [
        {
          "output_type": "execute_result",
          "data": {
            "text/html": [
              "<div>\n",
              "<style scoped>\n",
              "    .dataframe tbody tr th:only-of-type {\n",
              "        vertical-align: middle;\n",
              "    }\n",
              "\n",
              "    .dataframe tbody tr th {\n",
              "        vertical-align: top;\n",
              "    }\n",
              "\n",
              "    .dataframe thead th {\n",
              "        text-align: right;\n",
              "    }\n",
              "</style>\n",
              "<table border=\"1\" class=\"dataframe\">\n",
              "  <thead>\n",
              "    <tr style=\"text-align: right;\">\n",
              "      <th></th>\n",
              "      <th>article_link</th>\n",
              "      <th>headline</th>\n",
              "      <th>is_sarcastic</th>\n",
              "    </tr>\n",
              "  </thead>\n",
              "  <tbody>\n",
              "    <tr>\n",
              "      <th>0</th>\n",
              "      <td>https://bestinau.com.au/alexander-james-rodrig...</td>\n",
              "      <td>Alexander James Rodriguez Joins Senator Bob Ar...</td>\n",
              "      <td>0</td>\n",
              "    </tr>\n",
              "    <tr>\n",
              "      <th>1</th>\n",
              "      <td>https://bestinau.com.au/the-creative-pandemic-...</td>\n",
              "      <td>The creative pandemic method of King P</td>\n",
              "      <td>0</td>\n",
              "    </tr>\n",
              "    <tr>\n",
              "      <th>2</th>\n",
              "      <td>https://bestinau.com.au/tommy-trax-announces-a...</td>\n",
              "      <td>Tommy Trax announces a brand new studio releas...</td>\n",
              "      <td>0</td>\n",
              "    </tr>\n",
              "    <tr>\n",
              "      <th>3</th>\n",
              "      <td>https://bestinau.com.au/importance-of-a-positi...</td>\n",
              "      <td>Importance of a positive approach towards life...</td>\n",
              "      <td>0</td>\n",
              "    </tr>\n",
              "    <tr>\n",
              "      <th>4</th>\n",
              "      <td>https://bestinau.com.au/prince-andrews-ex-lady...</td>\n",
              "      <td>Prince Andrew’s Ex – Lady Victoria Hervey spot...</td>\n",
              "      <td>0</td>\n",
              "    </tr>\n",
              "  </tbody>\n",
              "</table>\n",
              "</div>"
            ],
            "text/plain": [
              "                                        article_link  ... is_sarcastic\n",
              "0  https://bestinau.com.au/alexander-james-rodrig...  ...            0\n",
              "1  https://bestinau.com.au/the-creative-pandemic-...  ...            0\n",
              "2  https://bestinau.com.au/tommy-trax-announces-a...  ...            0\n",
              "3  https://bestinau.com.au/importance-of-a-positi...  ...            0\n",
              "4  https://bestinau.com.au/prince-andrews-ex-lady...  ...            0\n",
              "\n",
              "[5 rows x 3 columns]"
            ]
          },
          "metadata": {
            "tags": []
          },
          "execution_count": 15
        }
      ]
    },
    {
      "cell_type": "markdown",
      "metadata": {
        "id": "d2zMBhtyEuj1"
      },
      "source": [
        "* Gộp 2 file vào data thu được dataframe gồm 15260 headlines các bài báo trong đó có 7577 headlines của báo châm biếm, 7683 headlines của báo chính thống \n",
        "\n",
        "\n",
        "\n",
        "\n",
        "\n",
        "\n",
        "\n",
        "\n",
        "\n"
      ]
    },
    {
      "cell_type": "code",
      "metadata": {
        "id": "kLasxlzT4b6T",
        "colab": {
          "base_uri": "https://localhost:8080/",
          "height": 419
        },
        "outputId": "06a2fff5-0541-4f95-8c67-4d92eca8063b"
      },
      "source": [
        "d = data0.append(data1)\n",
        "d"
      ],
      "execution_count": null,
      "outputs": [
        {
          "output_type": "execute_result",
          "data": {
            "text/html": [
              "<div>\n",
              "<style scoped>\n",
              "    .dataframe tbody tr th:only-of-type {\n",
              "        vertical-align: middle;\n",
              "    }\n",
              "\n",
              "    .dataframe tbody tr th {\n",
              "        vertical-align: top;\n",
              "    }\n",
              "\n",
              "    .dataframe thead th {\n",
              "        text-align: right;\n",
              "    }\n",
              "</style>\n",
              "<table border=\"1\" class=\"dataframe\">\n",
              "  <thead>\n",
              "    <tr style=\"text-align: right;\">\n",
              "      <th></th>\n",
              "      <th>article_link</th>\n",
              "      <th>headline</th>\n",
              "      <th>is_sarcastic</th>\n",
              "    </tr>\n",
              "  </thead>\n",
              "  <tbody>\n",
              "    <tr>\n",
              "      <th>0</th>\n",
              "      <td>https://bestinau.com.au/alexander-james-rodrig...</td>\n",
              "      <td>Alexander James Rodriguez Joins Senator Bob Ar...</td>\n",
              "      <td>0</td>\n",
              "    </tr>\n",
              "    <tr>\n",
              "      <th>1</th>\n",
              "      <td>https://bestinau.com.au/the-creative-pandemic-...</td>\n",
              "      <td>The creative pandemic method of King P</td>\n",
              "      <td>0</td>\n",
              "    </tr>\n",
              "    <tr>\n",
              "      <th>2</th>\n",
              "      <td>https://bestinau.com.au/tommy-trax-announces-a...</td>\n",
              "      <td>Tommy Trax announces a brand new studio releas...</td>\n",
              "      <td>0</td>\n",
              "    </tr>\n",
              "    <tr>\n",
              "      <th>3</th>\n",
              "      <td>https://bestinau.com.au/importance-of-a-positi...</td>\n",
              "      <td>Importance of a positive approach towards life...</td>\n",
              "      <td>0</td>\n",
              "    </tr>\n",
              "    <tr>\n",
              "      <th>4</th>\n",
              "      <td>https://bestinau.com.au/prince-andrews-ex-lady...</td>\n",
              "      <td>Prince Andrew’s Ex – Lady Victoria Hervey spot...</td>\n",
              "      <td>0</td>\n",
              "    </tr>\n",
              "    <tr>\n",
              "      <th>...</th>\n",
              "      <td>...</td>\n",
              "      <td>...</td>\n",
              "      <td>...</td>\n",
              "    </tr>\n",
              "    <tr>\n",
              "      <th>7572</th>\n",
              "      <td>https://thehardtimes.net/blog/time-taylor-swif...</td>\n",
              "      <td>It’s Time for Taylor Swift to Speak up About R...</td>\n",
              "      <td>1</td>\n",
              "    </tr>\n",
              "    <tr>\n",
              "      <th>7573</th>\n",
              "      <td>https://thehardtimes.net/culture/everyone-fami...</td>\n",
              "      <td>Everyone in Family Hiding Weed Use From Each O...</td>\n",
              "      <td>1</td>\n",
              "    </tr>\n",
              "    <tr>\n",
              "      <th>7574</th>\n",
              "      <td>https://thehardtimes.net/culture/friends-unsur...</td>\n",
              "      <td>Friends Unsure How Nine-Hour Festival Prevente...</td>\n",
              "      <td>1</td>\n",
              "    </tr>\n",
              "    <tr>\n",
              "      <th>7575</th>\n",
              "      <td>https://thehardtimes.net/blog/send-nude-pictur...</td>\n",
              "      <td>I Send Nude Pictures of Myself to Victims of R...</td>\n",
              "      <td>1</td>\n",
              "    </tr>\n",
              "    <tr>\n",
              "      <th>7576</th>\n",
              "      <td>https://thehardtimes.net/music/henry-rollins-w...</td>\n",
              "      <td>Henry Rollins Wears Shorts to Funeral</td>\n",
              "      <td>1</td>\n",
              "    </tr>\n",
              "  </tbody>\n",
              "</table>\n",
              "<p>15260 rows × 3 columns</p>\n",
              "</div>"
            ],
            "text/plain": [
              "                                           article_link  ... is_sarcastic\n",
              "0     https://bestinau.com.au/alexander-james-rodrig...  ...            0\n",
              "1     https://bestinau.com.au/the-creative-pandemic-...  ...            0\n",
              "2     https://bestinau.com.au/tommy-trax-announces-a...  ...            0\n",
              "3     https://bestinau.com.au/importance-of-a-positi...  ...            0\n",
              "4     https://bestinau.com.au/prince-andrews-ex-lady...  ...            0\n",
              "...                                                 ...  ...          ...\n",
              "7572  https://thehardtimes.net/blog/time-taylor-swif...  ...            1\n",
              "7573  https://thehardtimes.net/culture/everyone-fami...  ...            1\n",
              "7574  https://thehardtimes.net/culture/friends-unsur...  ...            1\n",
              "7575  https://thehardtimes.net/blog/send-nude-pictur...  ...            1\n",
              "7576  https://thehardtimes.net/music/henry-rollins-w...  ...            1\n",
              "\n",
              "[15260 rows x 3 columns]"
            ]
          },
          "metadata": {
            "tags": []
          },
          "execution_count": 18
        }
      ]
    },
    {
      "cell_type": "markdown",
      "metadata": {
        "id": "gizVCs3hF-7I"
      },
      "source": [
        "* Shuffle dữ liệu "
      ]
    },
    {
      "cell_type": "code",
      "metadata": {
        "id": "cWDDwt_U2ki0",
        "colab": {
          "base_uri": "https://localhost:8080/",
          "height": 419
        },
        "outputId": "85772c35-a925-4a47-c2cd-f89a691d9ac8"
      },
      "source": [
        "d = d.sample(frac=1).reset_index(drop=True)\n",
        "d"
      ],
      "execution_count": null,
      "outputs": [
        {
          "output_type": "execute_result",
          "data": {
            "text/html": [
              "<div>\n",
              "<style scoped>\n",
              "    .dataframe tbody tr th:only-of-type {\n",
              "        vertical-align: middle;\n",
              "    }\n",
              "\n",
              "    .dataframe tbody tr th {\n",
              "        vertical-align: top;\n",
              "    }\n",
              "\n",
              "    .dataframe thead th {\n",
              "        text-align: right;\n",
              "    }\n",
              "</style>\n",
              "<table border=\"1\" class=\"dataframe\">\n",
              "  <thead>\n",
              "    <tr style=\"text-align: right;\">\n",
              "      <th></th>\n",
              "      <th>article_link</th>\n",
              "      <th>headline</th>\n",
              "      <th>is_sarcastic</th>\n",
              "    </tr>\n",
              "  </thead>\n",
              "  <tbody>\n",
              "    <tr>\n",
              "      <th>0</th>\n",
              "      <td>https://bestinau.com.au/5-commonly-overlooked-...</td>\n",
              "      <td>5 commonly overlooked local SEO elements</td>\n",
              "      <td>0</td>\n",
              "    </tr>\n",
              "    <tr>\n",
              "      <th>1</th>\n",
              "      <td>https://time.com//5797950/coronavirus-preppers/</td>\n",
              "      <td>What 'Preppers' Can Teach Us About Dealing Wit...</td>\n",
              "      <td>0</td>\n",
              "    </tr>\n",
              "    <tr>\n",
              "      <th>2</th>\n",
              "      <td>https://www.betootaadvocate.com/breaking-news/...</td>\n",
              "      <td>Nation Shocked A House Full Of Pissed Bogans H...</td>\n",
              "      <td>1</td>\n",
              "    </tr>\n",
              "    <tr>\n",
              "      <th>3</th>\n",
              "      <td>https://time.com//5498223/r-kelly-allegations/</td>\n",
              "      <td>Investigators Want People With Allegations Aga...</td>\n",
              "      <td>0</td>\n",
              "    </tr>\n",
              "    <tr>\n",
              "      <th>4</th>\n",
              "      <td>https://time.com//5867405/megan-thee-stallion-...</td>\n",
              "      <td>Megan Thee Stallion Accuses Tory Lanez of Shoo...</td>\n",
              "      <td>0</td>\n",
              "    </tr>\n",
              "    <tr>\n",
              "      <th>...</th>\n",
              "      <td>...</td>\n",
              "      <td>...</td>\n",
              "      <td>...</td>\n",
              "    </tr>\n",
              "    <tr>\n",
              "      <th>15255</th>\n",
              "      <td>https://time.com//5893039/breonna-taylor-charg...</td>\n",
              "      <td>Citing ‘Political Agenda’ and Closed Door Test...</td>\n",
              "      <td>0</td>\n",
              "    </tr>\n",
              "    <tr>\n",
              "      <th>15256</th>\n",
              "      <td>https://dailybonnet.com/mennonite-game-goes-in...</td>\n",
              "      <td>Mennonite Game Goes into Overtime</td>\n",
              "      <td>1</td>\n",
              "    </tr>\n",
              "    <tr>\n",
              "      <th>15257</th>\n",
              "      <td>https://time.com//5601176/fort-worth-teacher-f...</td>\n",
              "      <td>Texas District Moves to Fire Teacher Who Tried...</td>\n",
              "      <td>0</td>\n",
              "    </tr>\n",
              "    <tr>\n",
              "      <th>15258</th>\n",
              "      <td>https://thehardtimes.net/culture/woman-diagnos...</td>\n",
              "      <td>Woman Diagnosed With COVID-19, Multiple Types ...</td>\n",
              "      <td>1</td>\n",
              "    </tr>\n",
              "    <tr>\n",
              "      <th>15259</th>\n",
              "      <td>https://toronto.citynews.ca/2021/06/08/terror-...</td>\n",
              "      <td>Terror charges so soon after London attack wou...</td>\n",
              "      <td>0</td>\n",
              "    </tr>\n",
              "  </tbody>\n",
              "</table>\n",
              "<p>15260 rows × 3 columns</p>\n",
              "</div>"
            ],
            "text/plain": [
              "                                            article_link  ... is_sarcastic\n",
              "0      https://bestinau.com.au/5-commonly-overlooked-...  ...            0\n",
              "1        https://time.com//5797950/coronavirus-preppers/  ...            0\n",
              "2      https://www.betootaadvocate.com/breaking-news/...  ...            1\n",
              "3         https://time.com//5498223/r-kelly-allegations/  ...            0\n",
              "4      https://time.com//5867405/megan-thee-stallion-...  ...            0\n",
              "...                                                  ...  ...          ...\n",
              "15255  https://time.com//5893039/breonna-taylor-charg...  ...            0\n",
              "15256  https://dailybonnet.com/mennonite-game-goes-in...  ...            1\n",
              "15257  https://time.com//5601176/fort-worth-teacher-f...  ...            0\n",
              "15258  https://thehardtimes.net/culture/woman-diagnos...  ...            1\n",
              "15259  https://toronto.citynews.ca/2021/06/08/terror-...  ...            0\n",
              "\n",
              "[15260 rows x 3 columns]"
            ]
          },
          "metadata": {
            "tags": []
          },
          "execution_count": 19
        }
      ]
    }
  ]
}